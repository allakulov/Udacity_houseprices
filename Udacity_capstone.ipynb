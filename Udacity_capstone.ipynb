{
 "cells": [
  {
   "cell_type": "markdown",
   "metadata": {},
   "source": [
    "# Udacity Data Scientist Capstone\n",
    "## Kaggle Competition: House Prices - Advanced Regression Techniques\n",
    "\n",
    "by Umrbek Allakulov"
   ]
  },
  {
   "cell_type": "markdown",
   "metadata": {},
   "source": [
    "## Table of contents:\n",
    "* [Introduction](#first-bullet)\n",
    "* [Data preprocessing and descriptive statistics](#second-bullet)\n",
    "     - [Preprocessing and descriptive statistics of categorical attributes](#third-bullet)\n",
    "     - [Preprocessing and descriptive statistics of numerical attributes](#fourth-bullet)\n",
    "         - [Continuous attributes](#5-bullet)\n",
    "         - [Ordinal attributes](#6-bullet)\n",
    "         - [Descriptive statistics of numerical attributes](#7-bullet)\n",
    "* [Prepararation of datasets for modelling](#9-bullet)\n",
    "* [Unsupervised learning](#10-bullet)\n",
    "    - [Principal component analysis](#11-bullet)\n",
    "    - [KMeans clustering](#13-bullet)\n",
    "- [Supervised learning](#14-bullet)\n",
    "    - [Feature selection](#15-bullet)\n",
    "    - [Tune Hyperparameters with Randomized Search](#17-bullet)\n",
    "    - [Evaluation of feature importances](#20-bullet)"
   ]
  },
  {
   "cell_type": "markdown",
   "metadata": {},
   "source": [
    "## Introduction <a class=\"anchor\" id=\"first-bullet\"></a>"
   ]
  },
  {
   "cell_type": "markdown",
   "metadata": {},
   "source": [
    "This note book contains all the code and analysis, and is submitted as part of the Capstone Project for the Data Scientist Nanodegree. The project uses datasets from a Kaggle Competition titled \"House Prices - Advanced Regression Techniques\". <br>\n",
    "\n",
    "\n",
    "**Data descriptions as provided in the Kaggle competition webpage** <br>\n",
    "\n",
    "The Ames Housing dataset was compiled by Dean De Cock for use in data science education. It's an incredible alternative for data scientists looking for a modernized and expanded version of the often cited Boston Housing dataset. \n",
    "\n",
    "train.csv - the training set <br>\n",
    "test.csv - the test set <br>\n",
    "data_description.txt - full description of each column, originally prepared by Dean De Cock but lightly edited to match the column names used here <br>\n",
    "sample_submission.csv - a benchmark submission from a linear regression on year and month of sale, lot square footage, and number of bedrooms"
   ]
  },
  {
   "cell_type": "code",
   "execution_count": null,
   "metadata": {},
   "outputs": [],
   "source": [
    "# install modules\n",
    "!pip install plotly\n",
    "!pip install --upgrade setuptools\n",
    "!pip install --upgrade pip\n",
    "!pip install xgboost"
   ]
  },
  {
   "cell_type": "code",
   "execution_count": 1365,
   "metadata": {},
   "outputs": [],
   "source": [
    "#import libraries\n",
    "import numpy as np\n",
    "import pandas as pd\n",
    "import matplotlib.pyplot as plt\n",
    "import seaborn as sns\n",
    "\n",
    "# magic word for producing visualizations in notebook\n",
    "%matplotlib inline\n",
    "\n",
    "from sklearn.cluster import KMeans\n",
    "from sklearn.decomposition import PCA\n",
    "from sklearn.ensemble import GradientBoostingRegressor\n",
    "from sklearn import tree\n",
    "from sklearn.impute import SimpleImputer\n",
    "from sklearn.impute import KNNImputer\n",
    "from numpy import mean\n",
    "from numpy import std\n",
    "from sklearn.datasets import make_classification\n",
    "from sklearn.metrics import mean_squared_error\n",
    "from sklearn.model_selection import cross_val_score\n",
    "from sklearn.model_selection import train_test_split\n",
    "\n",
    "from sklearn.model_selection import RepeatedStratifiedKFold\n",
    "from sklearn.model_selection import RandomizedSearchCV\n",
    "from sklearn.model_selection import GridSearchCV\n",
    "\n",
    "from sklearn.pipeline import Pipeline\n",
    "from sklearn.preprocessing import OrdinalEncoder\n",
    "from sklearn.preprocessing import MinMaxScaler\n",
    "\n",
    "from matplotlib import pyplot\n",
    "from plotly.offline import init_notebook_mode, iplot\n",
    "from plotly.graph_objs import *\n",
    "import plotly.offline as py\n",
    "from scipy.stats import uniform, truncnorm, randint\n",
    "import warnings"
   ]
  },
  {
   "cell_type": "code",
   "execution_count": 1101,
   "metadata": {},
   "outputs": [],
   "source": [
    "#import datasets\n",
    "df_train = pd.read_csv(r\"train.csv\")\n",
    "df_test = pd.read_csv(r\"test.csv\")"
   ]
  },
  {
   "cell_type": "code",
   "execution_count": 1102,
   "metadata": {},
   "outputs": [],
   "source": [
    "# replace NAs with np.nan\n",
    "\n",
    "def fix_na(df):\n",
    "    '''\n",
    "    Replaces NA's with np.nan\n",
    "    \n",
    "    Args:\n",
    "    df - DataFrame \n",
    "    \n",
    "    Returns: \n",
    "    df - DataFrame where NA's are replace with np.nan\n",
    "    '''\n",
    "    for col in categorical_col:\n",
    "        df[col] = df[col].replace(\"NA\", np.nan)\n",
    "    return df\n",
    "\n",
    "df_train = fix_na(df_train)\n",
    "df_test = fix_na(df_test)"
   ]
  },
  {
   "cell_type": "code",
   "execution_count": 1104,
   "metadata": {},
   "outputs": [
    {
     "data": {
      "text/plain": [
       "((1460, 81), (1459, 80))"
      ]
     },
     "execution_count": 1104,
     "metadata": {},
     "output_type": "execute_result"
    }
   ],
   "source": [
    "df_train.shape, df_test.shape"
   ]
  },
  {
   "cell_type": "code",
   "execution_count": 1012,
   "metadata": {
    "collapsed": true,
    "jupyter": {
     "outputs_hidden": true
    }
   },
   "outputs": [
    {
     "name": "stdout",
     "output_type": "stream",
     "text": [
      "MSSubClass: Identifies the type of dwelling involved in the sale.\t\n",
      "\n",
      "        20\t1-STORY 1946 & NEWER ALL STYLES\n",
      "        30\t1-STORY 1945 & OLDER\n",
      "        40\t1-STORY W/FINISHED ATTIC ALL AGES\n",
      "        45\t1-1/2 STORY - UNFINISHED ALL AGES\n",
      "        50\t1-1/2 STORY FINISHED ALL AGES\n",
      "        60\t2-STORY 1946 & NEWER\n",
      "        70\t2-STORY 1945 & OLDER\n",
      "        75\t2-1/2 STORY ALL AGES\n",
      "        80\tSPLIT OR MULTI-LEVEL\n",
      "        85\tSPLIT FOYER\n",
      "        90\tDUPLEX - ALL STYLES AND AGES\n",
      "       120\t1-STORY PUD (Planned Unit Development) - 1946 & NEWER\n",
      "       150\t1-1/2 STORY PUD - ALL AGES\n",
      "       160\t2-STORY PUD - 1946 & NEWER\n",
      "       180\tPUD - MULTILEVEL - INCL SPLIT LEV/FOYER\n",
      "       190\t2 FAMILY CONVERSION - ALL STYLES AND AGES\n",
      "\n",
      "MSZoning: Identifies the general zoning classification of the sale.\n",
      "\t\t\n",
      "       A\tAgriculture\n",
      "       C\tCommercial\n",
      "       FV\tFloating Village Residential\n",
      "       I\tIndustrial\n",
      "       RH\tResidential High Density\n",
      "       RL\tResidential Low Density\n",
      "       RP\tResidential Low Density Park \n",
      "       RM\tResidential Medium Density\n",
      "\t\n",
      "LotFrontage: Linear feet of street connected to property\n",
      "\n",
      "LotArea: Lot size in square feet\n",
      "\n",
      "Street: Type of road access to property\n",
      "\n",
      "       Grvl\tGravel\t\n",
      "       Pave\tPaved\n",
      "       \t\n",
      "Alley: Type of alley access to property\n",
      "\n",
      "       Grvl\tGravel\n",
      "       Pave\tPaved\n",
      "       NA \tNo alley access\n",
      "\t\t\n",
      "LotShape: General shape of property\n",
      "\n",
      "       Reg\tRegular\t\n",
      "       IR1\tSlightly irregular\n",
      "       IR2\tModerately Irregular\n",
      "       IR3\tIrregular\n",
      "       \n",
      "LandContour: Flatness of the property\n",
      "\n",
      "       Lvl\tNear Flat/Level\t\n",
      "       Bnk\tBanked - Quick and significant rise from street grade to building\n",
      "       HLS\tHillside - Significant slope from side to side\n",
      "       Low\tDepression\n",
      "\t\t\n",
      "Utilities: Type of utilities available\n",
      "\t\t\n",
      "       AllPub\tAll public Utilities (E,G,W,& S)\t\n",
      "       NoSewr\tElectricity, Gas, and Water (Septic Tank)\n",
      "       NoSeWa\tElectricity and Gas Only\n",
      "       ELO\tElectricity only\t\n",
      "\t\n",
      "LotConfig: Lot configuration\n",
      "\n",
      "       Inside\tInside lot\n",
      "       Corner\tCorner lot\n",
      "       CulDSac\tCul-de-sac\n",
      "       FR2\tFrontage on 2 sides of property\n",
      "       FR3\tFrontage on 3 sides of property\n",
      "\t\n",
      "LandSlope: Slope of property\n",
      "\t\t\n",
      "       Gtl\tGentle slope\n",
      "       Mod\tModerate Slope\t\n",
      "       Sev\tSevere Slope\n",
      "\t\n",
      "Neighborhood: Physical locations within Ames city limits\n",
      "\n",
      "       Blmngtn\tBloomington Heights\n",
      "       Blueste\tBluestem\n",
      "       BrDale\tBriardale\n",
      "       BrkSide\tBrookside\n",
      "       ClearCr\tClear Creek\n",
      "       CollgCr\tCollege Creek\n",
      "       Crawfor\tCrawford\n",
      "       Edwards\tEdwards\n",
      "       Gilbert\tGilbert\n",
      "       IDOTRR\tIowa DOT and Rail Road\n",
      "       MeadowV\tMeadow Village\n",
      "       Mitchel\tMitchell\n",
      "       Names\tNorth Ames\n",
      "       NoRidge\tNorthridge\n",
      "       NPkVill\tNorthpark Villa\n",
      "       NridgHt\tNorthridge Heights\n",
      "       NWAmes\tNorthwest Ames\n",
      "       OldTown\tOld Town\n",
      "       SWISU\tSouth & West of Iowa State University\n",
      "       Sawyer\tSawyer\n",
      "       SawyerW\tSawyer West\n",
      "       Somerst\tSomerset\n",
      "       StoneBr\tStone Brook\n",
      "       Timber\tTimberland\n",
      "       Veenker\tVeenker\n",
      "\t\t\t\n",
      "Condition1: Proximity to various conditions\n",
      "\t\n",
      "       Artery\tAdjacent to arterial street\n",
      "       Feedr\tAdjacent to feeder street\t\n",
      "       Norm\tNormal\t\n",
      "       RRNn\tWithin 200' of North-South Railroad\n",
      "       RRAn\tAdjacent to North-South Railroad\n",
      "       PosN\tNear positive off-site feature--park, greenbelt, etc.\n",
      "       PosA\tAdjacent to postive off-site feature\n",
      "       RRNe\tWithin 200' of East-West Railroad\n",
      "       RRAe\tAdjacent to East-West Railroad\n",
      "\t\n",
      "Condition2: Proximity to various conditions (if more than one is present)\n",
      "\t\t\n",
      "       Artery\tAdjacent to arterial street\n",
      "       Feedr\tAdjacent to feeder street\t\n",
      "       Norm\tNormal\t\n",
      "       RRNn\tWithin 200' of North-South Railroad\n",
      "       RRAn\tAdjacent to North-South Railroad\n",
      "       PosN\tNear positive off-site feature--park, greenbelt, etc.\n",
      "       PosA\tAdjacent to postive off-site feature\n",
      "       RRNe\tWithin 200' of East-West Railroad\n",
      "       RRAe\tAdjacent to East-West Railroad\n",
      "\t\n",
      "BldgType: Type of dwelling\n",
      "\t\t\n",
      "       1Fam\tSingle-family Detached\t\n",
      "       2FmCon\tTwo-family Conversion; originally built as one-family dwelling\n",
      "       Duplx\tDuplex\n",
      "       TwnhsE\tTownhouse End Unit\n",
      "       TwnhsI\tTownhouse Inside Unit\n",
      "\t\n",
      "HouseStyle: Style of dwelling\n",
      "\t\n",
      "       1Story\tOne story\n",
      "       1.5Fin\tOne and one-half story: 2nd level finished\n",
      "       1.5Unf\tOne and one-half story: 2nd level unfinished\n",
      "       2Story\tTwo story\n",
      "       2.5Fin\tTwo and one-half story: 2nd level finished\n",
      "       2.5Unf\tTwo and one-half story: 2nd level unfinished\n",
      "       SFoyer\tSplit Foyer\n",
      "       SLvl\tSplit Level\n",
      "\t\n",
      "OverallQual: Rates the overall material and finish of the house\n",
      "\n",
      "       10\tVery Excellent\n",
      "       9\tExcellent\n",
      "       8\tVery Good\n",
      "       7\tGood\n",
      "       6\tAbove Average\n",
      "       5\tAverage\n",
      "       4\tBelow Average\n",
      "       3\tFair\n",
      "       2\tPoor\n",
      "       1\tVery Poor\n",
      "\t\n",
      "OverallCond: Rates the overall condition of the house\n",
      "\n",
      "       10\tVery Excellent\n",
      "       9\tExcellent\n",
      "       8\tVery Good\n",
      "       7\tGood\n",
      "       6\tAbove Average\t\n",
      "       5\tAverage\n",
      "       4\tBelow Average\t\n",
      "       3\tFair\n",
      "       2\tPoor\n",
      "       1\tVery Poor\n",
      "\t\t\n",
      "YearBuilt: Original construction date\n",
      "\n",
      "YearRemodAdd: Remodel date (same as construction date if no remodeling or additions)\n",
      "\n",
      "RoofStyle: Type of roof\n",
      "\n",
      "       Flat\tFlat\n",
      "       Gable\tGable\n",
      "       Gambrel\tGabrel (Barn)\n",
      "       Hip\tHip\n",
      "       Mansard\tMansard\n",
      "       Shed\tShed\n",
      "\t\t\n",
      "RoofMatl: Roof material\n",
      "\n",
      "       ClyTile\tClay or Tile\n",
      "       CompShg\tStandard (Composite) Shingle\n",
      "       Membran\tMembrane\n",
      "       Metal\tMetal\n",
      "       Roll\tRoll\n",
      "       Tar&Grv\tGravel & Tar\n",
      "       WdShake\tWood Shakes\n",
      "       WdShngl\tWood Shingles\n",
      "\t\t\n",
      "Exterior1st: Exterior covering on house\n",
      "\n",
      "       AsbShng\tAsbestos Shingles\n",
      "       AsphShn\tAsphalt Shingles\n",
      "       BrkComm\tBrick Common\n",
      "       BrkFace\tBrick Face\n",
      "       CBlock\tCinder Block\n",
      "       CemntBd\tCement Board\n",
      "       HdBoard\tHard Board\n",
      "       ImStucc\tImitation Stucco\n",
      "       MetalSd\tMetal Siding\n",
      "       Other\tOther\n",
      "       Plywood\tPlywood\n",
      "       PreCast\tPreCast\t\n",
      "       Stone\tStone\n",
      "       Stucco\tStucco\n",
      "       VinylSd\tVinyl Siding\n",
      "       Wd Sdng\tWood Siding\n",
      "       WdShing\tWood Shingles\n",
      "\t\n",
      "Exterior2nd: Exterior covering on house (if more than one material)\n",
      "\n",
      "       AsbShng\tAsbestos Shingles\n",
      "       AsphShn\tAsphalt Shingles\n",
      "       BrkComm\tBrick Common\n",
      "       BrkFace\tBrick Face\n",
      "       CBlock\tCinder Block\n",
      "       CemntBd\tCement Board\n",
      "       HdBoard\tHard Board\n",
      "       ImStucc\tImitation Stucco\n",
      "       MetalSd\tMetal Siding\n",
      "       Other\tOther\n",
      "       Plywood\tPlywood\n",
      "       PreCast\tPreCast\n",
      "       Stone\tStone\n",
      "       Stucco\tStucco\n",
      "       VinylSd\tVinyl Siding\n",
      "       Wd Sdng\tWood Siding\n",
      "       WdShing\tWood Shingles\n",
      "\t\n",
      "MasVnrType: Masonry veneer type\n",
      "\n",
      "       BrkCmn\tBrick Common\n",
      "       BrkFace\tBrick Face\n",
      "       CBlock\tCinder Block\n",
      "       None\tNone\n",
      "       Stone\tStone\n",
      "\t\n",
      "MasVnrArea: Masonry veneer area in square feet\n",
      "\n",
      "ExterQual: Evaluates the quality of the material on the exterior \n",
      "\t\t\n",
      "       Ex\tExcellent\n",
      "       Gd\tGood\n",
      "       TA\tAverage/Typical\n",
      "       Fa\tFair\n",
      "       Po\tPoor\n",
      "\t\t\n",
      "ExterCond: Evaluates the present condition of the material on the exterior\n",
      "\t\t\n",
      "       Ex\tExcellent\n",
      "       Gd\tGood\n",
      "       TA\tAverage/Typical\n",
      "       Fa\tFair\n",
      "       Po\tPoor\n",
      "\t\t\n",
      "Foundation: Type of foundation\n",
      "\t\t\n",
      "       BrkTil\tBrick & Tile\n",
      "       CBlock\tCinder Block\n",
      "       PConc\tPoured Contrete\t\n",
      "       Slab\tSlab\n",
      "       Stone\tStone\n",
      "       Wood\tWood\n",
      "\t\t\n",
      "BsmtQual: Evaluates the height of the basement\n",
      "\n",
      "       Ex\tExcellent (100+ inches)\t\n",
      "       Gd\tGood (90-99 inches)\n",
      "       TA\tTypical (80-89 inches)\n",
      "       Fa\tFair (70-79 inches)\n",
      "       Po\tPoor (<70 inches\n",
      "       NA\tNo Basement\n",
      "\t\t\n",
      "BsmtCond: Evaluates the general condition of the basement\n",
      "\n",
      "       Ex\tExcellent\n",
      "       Gd\tGood\n",
      "       TA\tTypical - slight dampness allowed\n",
      "       Fa\tFair - dampness or some cracking or settling\n",
      "       Po\tPoor - Severe cracking, settling, or wetness\n",
      "       NA\tNo Basement\n",
      "\t\n",
      "BsmtExposure: Refers to walkout or garden level walls\n",
      "\n",
      "       Gd\tGood Exposure\n",
      "       Av\tAverage Exposure (split levels or foyers typically score average or above)\t\n",
      "       Mn\tMimimum Exposure\n",
      "       No\tNo Exposure\n",
      "       NA\tNo Basement\n",
      "\t\n",
      "BsmtFinType1: Rating of basement finished area\n",
      "\n",
      "       GLQ\tGood Living Quarters\n",
      "       ALQ\tAverage Living Quarters\n",
      "       BLQ\tBelow Average Living Quarters\t\n",
      "       Rec\tAverage Rec Room\n",
      "       LwQ\tLow Quality\n",
      "       Unf\tUnfinshed\n",
      "       NA\tNo Basement\n",
      "\t\t\n",
      "BsmtFinSF1: Type 1 finished square feet\n",
      "\n",
      "BsmtFinType2: Rating of basement finished area (if multiple types)\n",
      "\n",
      "       GLQ\tGood Living Quarters\n",
      "       ALQ\tAverage Living Quarters\n",
      "       BLQ\tBelow Average Living Quarters\t\n",
      "       Rec\tAverage Rec Room\n",
      "       LwQ\tLow Quality\n",
      "       Unf\tUnfinshed\n",
      "       NA\tNo Basement\n",
      "\n",
      "BsmtFinSF2: Type 2 finished square feet\n",
      "\n",
      "BsmtUnfSF: Unfinished square feet of basement area\n",
      "\n",
      "TotalBsmtSF: Total square feet of basement area\n",
      "\n",
      "Heating: Type of heating\n",
      "\t\t\n",
      "       Floor\tFloor Furnace\n",
      "       GasA\tGas forced warm air furnace\n",
      "       GasW\tGas hot water or steam heat\n",
      "       Grav\tGravity furnace\t\n",
      "       OthW\tHot water or steam heat other than gas\n",
      "       Wall\tWall furnace\n",
      "\t\t\n",
      "HeatingQC: Heating quality and condition\n",
      "\n",
      "       Ex\tExcellent\n",
      "       Gd\tGood\n",
      "       TA\tAverage/Typical\n",
      "       Fa\tFair\n",
      "       Po\tPoor\n",
      "\t\t\n",
      "CentralAir: Central air conditioning\n",
      "\n",
      "       N\tNo\n",
      "       Y\tYes\n",
      "\t\t\n",
      "Electrical: Electrical system\n",
      "\n",
      "       SBrkr\tStandard Circuit Breakers & Romex\n",
      "       FuseA\tFuse Box over 60 AMP and all Romex wiring (Average)\t\n",
      "       FuseF\t60 AMP Fuse Box and mostly Romex wiring (Fair)\n",
      "       FuseP\t60 AMP Fuse Box and mostly knob & tube wiring (poor)\n",
      "       Mix\tMixed\n",
      "\t\t\n",
      "1stFlrSF: First Floor square feet\n",
      " \n",
      "2ndFlrSF: Second floor square feet\n",
      "\n",
      "LowQualFinSF: Low quality finished square feet (all floors)\n",
      "\n",
      "GrLivArea: Above grade (ground) living area square feet\n",
      "\n",
      "BsmtFullBath: Basement full bathrooms\n",
      "\n",
      "BsmtHalfBath: Basement half bathrooms\n",
      "\n",
      "FullBath: Full bathrooms above grade\n",
      "\n",
      "HalfBath: Half baths above grade\n",
      "\n",
      "Bedroom: Bedrooms above grade (does NOT include basement bedrooms)\n",
      "\n",
      "Kitchen: Kitchens above grade\n",
      "\n",
      "KitchenQual: Kitchen quality\n",
      "\n",
      "       Ex\tExcellent\n",
      "       Gd\tGood\n",
      "       TA\tTypical/Average\n",
      "       Fa\tFair\n",
      "       Po\tPoor\n",
      "       \t\n",
      "TotRmsAbvGrd: Total rooms above grade (does not include bathrooms)\n",
      "\n",
      "Functional: Home functionality (Assume typical unless deductions are warranted)\n",
      "\n",
      "       Typ\tTypical Functionality\n",
      "       Min1\tMinor Deductions 1\n",
      "       Min2\tMinor Deductions 2\n",
      "       Mod\tModerate Deductions\n",
      "       Maj1\tMajor Deductions 1\n",
      "       Maj2\tMajor Deductions 2\n",
      "       Sev\tSeverely Damaged\n",
      "       Sal\tSalvage only\n",
      "\t\t\n",
      "Fireplaces: Number of fireplaces\n",
      "\n",
      "FireplaceQu: Fireplace quality\n",
      "\n",
      "       Ex\tExcellent - Exceptional Masonry Fireplace\n",
      "       Gd\tGood - Masonry Fireplace in main level\n",
      "       TA\tAverage - Prefabricated Fireplace in main living area or Masonry Fireplace in basement\n",
      "       Fa\tFair - Prefabricated Fireplace in basement\n",
      "       Po\tPoor - Ben Franklin Stove\n",
      "       NA\tNo Fireplace\n",
      "\t\t\n",
      "GarageType: Garage location\n",
      "\t\t\n",
      "       2Types\tMore than one type of garage\n",
      "       Attchd\tAttached to home\n",
      "       Basment\tBasement Garage\n",
      "       BuiltIn\tBuilt-In (Garage part of house - typically has room above garage)\n",
      "       CarPort\tCar Port\n",
      "       Detchd\tDetached from home\n",
      "       NA\tNo Garage\n",
      "\t\t\n",
      "GarageYrBlt: Year garage was built\n",
      "\t\t\n",
      "GarageFinish: Interior finish of the garage\n",
      "\n",
      "       Fin\tFinished\n",
      "       RFn\tRough Finished\t\n",
      "       Unf\tUnfinished\n",
      "       NA\tNo Garage\n",
      "\t\t\n",
      "GarageCars: Size of garage in car capacity\n",
      "\n",
      "GarageArea: Size of garage in square feet\n",
      "\n",
      "GarageQual: Garage quality\n",
      "\n",
      "       Ex\tExcellent\n",
      "       Gd\tGood\n",
      "       TA\tTypical/Average\n",
      "       Fa\tFair\n",
      "       Po\tPoor\n",
      "       NA\tNo Garage\n",
      "\t\t\n",
      "GarageCond: Garage condition\n",
      "\n",
      "       Ex\tExcellent\n",
      "       Gd\tGood\n",
      "       TA\tTypical/Average\n",
      "       Fa\tFair\n",
      "       Po\tPoor\n",
      "       NA\tNo Garage\n",
      "\t\t\n",
      "PavedDrive: Paved driveway\n",
      "\n",
      "       Y\tPaved \n",
      "       P\tPartial Pavement\n",
      "       N\tDirt/Gravel\n",
      "\t\t\n",
      "WoodDeckSF: Wood deck area in square feet\n",
      "\n",
      "OpenPorchSF: Open porch area in square feet\n",
      "\n",
      "EnclosedPorch: Enclosed porch area in square feet\n",
      "\n",
      "3SsnPorch: Three season porch area in square feet\n",
      "\n",
      "ScreenPorch: Screen porch area in square feet\n",
      "\n",
      "PoolArea: Pool area in square feet\n",
      "\n",
      "PoolQC: Pool quality\n",
      "\t\t\n",
      "       Ex\tExcellent\n",
      "       Gd\tGood\n",
      "       TA\tAverage/Typical\n",
      "       Fa\tFair\n",
      "       NA\tNo Pool\n",
      "\t\t\n",
      "Fence: Fence quality\n",
      "\t\t\n",
      "       GdPrv\tGood Privacy\n",
      "       MnPrv\tMinimum Privacy\n",
      "       GdWo\tGood Wood\n",
      "       MnWw\tMinimum Wood/Wire\n",
      "       NA\tNo Fence\n",
      "\t\n",
      "MiscFeature: Miscellaneous feature not covered in other categories\n",
      "\t\t\n",
      "       Elev\tElevator\n",
      "       Gar2\t2nd Garage (if not described in garage section)\n",
      "       Othr\tOther\n",
      "       Shed\tShed (over 100 SF)\n",
      "       TenC\tTennis Court\n",
      "       NA\tNone\n",
      "\t\t\n",
      "MiscVal: $Value of miscellaneous feature\n",
      "\n",
      "MoSold: Month Sold (MM)\n",
      "\n",
      "YrSold: Year Sold (YYYY)\n",
      "\n",
      "SaleType: Type of sale\n",
      "\t\t\n",
      "       WD \tWarranty Deed - Conventional\n",
      "       CWD\tWarranty Deed - Cash\n",
      "       VWD\tWarranty Deed - VA Loan\n",
      "       New\tHome just constructed and sold\n",
      "       COD\tCourt Officer Deed/Estate\n",
      "       Con\tContract 15% Down payment regular terms\n",
      "       ConLw\tContract Low Down payment and low interest\n",
      "       ConLI\tContract Low Interest\n",
      "       ConLD\tContract Low Down\n",
      "       Oth\tOther\n",
      "\t\t\n",
      "SaleCondition: Condition of sale\n",
      "\n",
      "       Normal\tNormal Sale\n",
      "       Abnorml\tAbnormal Sale -  trade, foreclosure, short sale\n",
      "       AdjLand\tAdjoining Land Purchase\n",
      "       Alloca\tAllocation - two linked properties with separate deeds, typically condo with a garage unit\t\n",
      "       Family\tSale between family members\n",
      "       Partial\tHome was not completed when last assessed (associated with New Homes)\n",
      "\n"
     ]
    }
   ],
   "source": [
    "#data description\n",
    "desc = open(\"data_description.txt\", \"r\")\n",
    "print(desc.read())"
   ]
  },
  {
   "cell_type": "markdown",
   "metadata": {},
   "source": [
    "# Data preprocessing and descriptive statistics <a class=\"anchor\" id=\"second-bullet\"></a>"
   ]
  },
  {
   "cell_type": "markdown",
   "metadata": {},
   "source": [
    "I begin by checking the presence of missing values in the training dataset and identify columns to drop. I drop the selected columns in both the training and testing datasets"
   ]
  },
  {
   "cell_type": "code",
   "execution_count": 1105,
   "metadata": {},
   "outputs": [],
   "source": [
    "def percent_missing(df):\n",
    "    '''\n",
    "    Calculates the percentage of missing values in a dataset.\n",
    "    \n",
    "    Args:\n",
    "    inputs: Dataset\n",
    "    returns: Dataset showing the percentage of missing values per column.\n",
    "    '''\n",
    "    percent_missing = df.isnull().sum()* 100/len(df)\n",
    "    percent_missing_df = pd.DataFrame({'col': df.columns,\n",
    "                                 'percent_missing': percent_missing})\n",
    "    return percent_missing_df"
   ]
  },
  {
   "cell_type": "code",
   "execution_count": 1106,
   "metadata": {},
   "outputs": [],
   "source": [
    "# calculate the percentage of missing values\n",
    "missing_train = percent_missing(df_train)"
   ]
  },
  {
   "cell_type": "code",
   "execution_count": 1107,
   "metadata": {},
   "outputs": [
    {
     "data": {
      "text/plain": [
       "PoolQC          99.520548\n",
       "MiscFeature     96.301370\n",
       "Alley           93.767123\n",
       "Fence           80.753425\n",
       "FireplaceQu     47.260274\n",
       "LotFrontage     17.739726\n",
       "GarageCond       5.547945\n",
       "GarageType       5.547945\n",
       "GarageYrBlt      5.547945\n",
       "GarageFinish     5.547945\n",
       "GarageQual       5.547945\n",
       "BsmtExposure     2.602740\n",
       "BsmtFinType2     2.602740\n",
       "BsmtFinType1     2.534247\n",
       "BsmtCond         2.534247\n",
       "Name: percent_missing, dtype: float64"
      ]
     },
     "execution_count": 1107,
     "metadata": {},
     "output_type": "execute_result"
    }
   ],
   "source": [
    "# top 15 attributes in terms of missing values\n",
    "missing_train[\"percent_missing\"].sort_values(ascending = False).head(15)"
   ]
  },
  {
   "cell_type": "markdown",
   "metadata": {},
   "source": [
    "Most variables have less than 6% values missing. For this analysis, I will drop variables that have more than 18% values missing, resulting in the elimination of 5 attributes."
   ]
  },
  {
   "cell_type": "code",
   "execution_count": 1108,
   "metadata": {},
   "outputs": [
    {
     "data": {
      "text/plain": [
       "['Alley', 'FireplaceQu', 'PoolQC', 'Fence', 'MiscFeature']"
      ]
     },
     "execution_count": 1108,
     "metadata": {},
     "output_type": "execute_result"
    }
   ],
   "source": [
    "#select columns to remove\n",
    "missing_remove = list(missing_train[missing_train[\"percent_missing\"]>19][\"col\"])\n",
    "missing_remove"
   ]
  },
  {
   "cell_type": "code",
   "execution_count": 1109,
   "metadata": {},
   "outputs": [],
   "source": [
    "train = df_train.drop(missing_remove, inplace = False, axis = 1)\n",
    "test = df_test.drop(missing_remove, inplace = False, axis = 1)"
   ]
  },
  {
   "cell_type": "code",
   "execution_count": 1110,
   "metadata": {},
   "outputs": [
    {
     "data": {
      "text/plain": [
       "((1460, 76), (1459, 75))"
      ]
     },
     "execution_count": 1110,
     "metadata": {},
     "output_type": "execute_result"
    }
   ],
   "source": [
    "train.shape, test.shape"
   ]
  },
  {
   "cell_type": "markdown",
   "metadata": {},
   "source": [
    "## Preprocessing and descriptive statistics of categorical attributes <a class=\"anchor\" id=\"third-bullet\"></a>"
   ]
  },
  {
   "cell_type": "code",
   "execution_count": 1111,
   "metadata": {},
   "outputs": [],
   "source": [
    "# list of categorical variables\n",
    "categorical_col = [\"MSSubClass\",\"MSZoning\", \"Street\", \"LotShape\", \"LandContour\", \n",
    "                   \"Utilities\", \"LotConfig\", \"LandSlope\", \"Neighborhood\", \"Condition1\",\n",
    "                   \"Condition2\", \"BldgType\", \"HouseStyle\", \"RoofStyle\", \"Exterior1st\",\n",
    "                   \"Exterior2nd\", \"MasVnrType\", \"Foundation\", \"Heating\", \"Electrical\", \n",
    "                   \"GarageType\", \"SaleType\", \"SaleCondition\", \"CentralAir\", \"RoofMatl\"]"
   ]
  },
  {
   "cell_type": "code",
   "execution_count": 1112,
   "metadata": {},
   "outputs": [
    {
     "data": {
      "text/html": [
       "<div>\n",
       "<style scoped>\n",
       "    .dataframe tbody tr th:only-of-type {\n",
       "        vertical-align: middle;\n",
       "    }\n",
       "\n",
       "    .dataframe tbody tr th {\n",
       "        vertical-align: top;\n",
       "    }\n",
       "\n",
       "    .dataframe thead th {\n",
       "        text-align: right;\n",
       "    }\n",
       "</style>\n",
       "<table border=\"1\" class=\"dataframe\">\n",
       "  <thead>\n",
       "    <tr style=\"text-align: right;\">\n",
       "      <th></th>\n",
       "      <th>MSSubClass</th>\n",
       "      <th>MSZoning</th>\n",
       "      <th>Street</th>\n",
       "      <th>LotShape</th>\n",
       "      <th>LandContour</th>\n",
       "      <th>Utilities</th>\n",
       "      <th>LotConfig</th>\n",
       "      <th>LandSlope</th>\n",
       "      <th>Neighborhood</th>\n",
       "      <th>Condition1</th>\n",
       "      <th>Condition2</th>\n",
       "      <th>BldgType</th>\n",
       "      <th>HouseStyle</th>\n",
       "    </tr>\n",
       "  </thead>\n",
       "  <tbody>\n",
       "    <tr>\n",
       "      <th>count</th>\n",
       "      <td>1460</td>\n",
       "      <td>1460</td>\n",
       "      <td>1460</td>\n",
       "      <td>1460</td>\n",
       "      <td>1460</td>\n",
       "      <td>1460</td>\n",
       "      <td>1460</td>\n",
       "      <td>1460</td>\n",
       "      <td>1460</td>\n",
       "      <td>1460</td>\n",
       "      <td>1460</td>\n",
       "      <td>1460</td>\n",
       "      <td>1460</td>\n",
       "    </tr>\n",
       "    <tr>\n",
       "      <th>unique</th>\n",
       "      <td>15</td>\n",
       "      <td>5</td>\n",
       "      <td>2</td>\n",
       "      <td>4</td>\n",
       "      <td>4</td>\n",
       "      <td>2</td>\n",
       "      <td>5</td>\n",
       "      <td>3</td>\n",
       "      <td>25</td>\n",
       "      <td>9</td>\n",
       "      <td>8</td>\n",
       "      <td>5</td>\n",
       "      <td>8</td>\n",
       "    </tr>\n",
       "    <tr>\n",
       "      <th>top</th>\n",
       "      <td>20</td>\n",
       "      <td>RL</td>\n",
       "      <td>Pave</td>\n",
       "      <td>Reg</td>\n",
       "      <td>Lvl</td>\n",
       "      <td>AllPub</td>\n",
       "      <td>Inside</td>\n",
       "      <td>Gtl</td>\n",
       "      <td>NAmes</td>\n",
       "      <td>Norm</td>\n",
       "      <td>Norm</td>\n",
       "      <td>1Fam</td>\n",
       "      <td>1Story</td>\n",
       "    </tr>\n",
       "    <tr>\n",
       "      <th>freq</th>\n",
       "      <td>536</td>\n",
       "      <td>1151</td>\n",
       "      <td>1454</td>\n",
       "      <td>925</td>\n",
       "      <td>1311</td>\n",
       "      <td>1459</td>\n",
       "      <td>1052</td>\n",
       "      <td>1382</td>\n",
       "      <td>225</td>\n",
       "      <td>1260</td>\n",
       "      <td>1445</td>\n",
       "      <td>1220</td>\n",
       "      <td>726</td>\n",
       "    </tr>\n",
       "  </tbody>\n",
       "</table>\n",
       "</div>"
      ],
      "text/plain": [
       "       MSSubClass MSZoning Street LotShape LandContour Utilities LotConfig  \\\n",
       "count        1460     1460   1460     1460        1460      1460      1460   \n",
       "unique         15        5      2        4           4         2         5   \n",
       "top            20       RL   Pave      Reg         Lvl    AllPub    Inside   \n",
       "freq          536     1151   1454      925        1311      1459      1052   \n",
       "\n",
       "       LandSlope Neighborhood Condition1 Condition2 BldgType HouseStyle  \n",
       "count       1460         1460       1460       1460     1460       1460  \n",
       "unique         3           25          9          8        5          8  \n",
       "top          Gtl        NAmes       Norm       Norm     1Fam     1Story  \n",
       "freq        1382          225       1260       1445     1220        726  "
      ]
     },
     "execution_count": 1112,
     "metadata": {},
     "output_type": "execute_result"
    }
   ],
   "source": [
    "# descriptive statistics of categorical variables - part1\n",
    "train[categorical_col].iloc[:, 0:13].astype(str).describe(include = 'all')"
   ]
  },
  {
   "cell_type": "code",
   "execution_count": 1113,
   "metadata": {},
   "outputs": [
    {
     "data": {
      "text/html": [
       "<div>\n",
       "<style scoped>\n",
       "    .dataframe tbody tr th:only-of-type {\n",
       "        vertical-align: middle;\n",
       "    }\n",
       "\n",
       "    .dataframe tbody tr th {\n",
       "        vertical-align: top;\n",
       "    }\n",
       "\n",
       "    .dataframe thead th {\n",
       "        text-align: right;\n",
       "    }\n",
       "</style>\n",
       "<table border=\"1\" class=\"dataframe\">\n",
       "  <thead>\n",
       "    <tr style=\"text-align: right;\">\n",
       "      <th></th>\n",
       "      <th>RoofStyle</th>\n",
       "      <th>Exterior1st</th>\n",
       "      <th>Exterior2nd</th>\n",
       "      <th>MasVnrType</th>\n",
       "      <th>Foundation</th>\n",
       "      <th>Heating</th>\n",
       "      <th>Electrical</th>\n",
       "      <th>GarageType</th>\n",
       "      <th>SaleType</th>\n",
       "      <th>SaleCondition</th>\n",
       "      <th>CentralAir</th>\n",
       "      <th>RoofMatl</th>\n",
       "    </tr>\n",
       "  </thead>\n",
       "  <tbody>\n",
       "    <tr>\n",
       "      <th>count</th>\n",
       "      <td>1460</td>\n",
       "      <td>1460</td>\n",
       "      <td>1460</td>\n",
       "      <td>1452</td>\n",
       "      <td>1460</td>\n",
       "      <td>1460</td>\n",
       "      <td>1459</td>\n",
       "      <td>1379</td>\n",
       "      <td>1460</td>\n",
       "      <td>1460</td>\n",
       "      <td>1460</td>\n",
       "      <td>1460</td>\n",
       "    </tr>\n",
       "    <tr>\n",
       "      <th>unique</th>\n",
       "      <td>6</td>\n",
       "      <td>15</td>\n",
       "      <td>16</td>\n",
       "      <td>4</td>\n",
       "      <td>6</td>\n",
       "      <td>6</td>\n",
       "      <td>5</td>\n",
       "      <td>6</td>\n",
       "      <td>9</td>\n",
       "      <td>6</td>\n",
       "      <td>2</td>\n",
       "      <td>8</td>\n",
       "    </tr>\n",
       "    <tr>\n",
       "      <th>top</th>\n",
       "      <td>Gable</td>\n",
       "      <td>VinylSd</td>\n",
       "      <td>VinylSd</td>\n",
       "      <td>None</td>\n",
       "      <td>PConc</td>\n",
       "      <td>GasA</td>\n",
       "      <td>SBrkr</td>\n",
       "      <td>Attchd</td>\n",
       "      <td>WD</td>\n",
       "      <td>Normal</td>\n",
       "      <td>Y</td>\n",
       "      <td>CompShg</td>\n",
       "    </tr>\n",
       "    <tr>\n",
       "      <th>freq</th>\n",
       "      <td>1141</td>\n",
       "      <td>515</td>\n",
       "      <td>504</td>\n",
       "      <td>864</td>\n",
       "      <td>647</td>\n",
       "      <td>1428</td>\n",
       "      <td>1334</td>\n",
       "      <td>870</td>\n",
       "      <td>1267</td>\n",
       "      <td>1198</td>\n",
       "      <td>1365</td>\n",
       "      <td>1434</td>\n",
       "    </tr>\n",
       "  </tbody>\n",
       "</table>\n",
       "</div>"
      ],
      "text/plain": [
       "       RoofStyle Exterior1st Exterior2nd MasVnrType Foundation Heating  \\\n",
       "count       1460        1460        1460       1452       1460    1460   \n",
       "unique         6          15          16          4          6       6   \n",
       "top        Gable     VinylSd     VinylSd       None      PConc    GasA   \n",
       "freq        1141         515         504        864        647    1428   \n",
       "\n",
       "       Electrical GarageType SaleType SaleCondition CentralAir RoofMatl  \n",
       "count        1459       1379     1460          1460       1460     1460  \n",
       "unique          5          6        9             6          2        8  \n",
       "top         SBrkr     Attchd       WD        Normal          Y  CompShg  \n",
       "freq         1334        870     1267          1198       1365     1434  "
      ]
     },
     "execution_count": 1113,
     "metadata": {},
     "output_type": "execute_result"
    }
   ],
   "source": [
    "# descriptive statistics of categorical variables - part2\n",
    "train[categorical_col].iloc[:, 13:].describe(include = 'all')"
   ]
  },
  {
   "cell_type": "code",
   "execution_count": 1114,
   "metadata": {},
   "outputs": [],
   "source": [
    "# impute categorical attributes using the most frequent value\n",
    "simple_imputer = SimpleImputer(missing_values=np.nan, strategy='most_frequent')\n",
    "\n",
    "#fit imputer on the combined dataset\n",
    "for col in categorical_col:\n",
    "    simple_imputer.fit(pd.concat([train[col], test[col]], axis=0, sort=False).values.reshape(-1, 1))\n",
    "    \n",
    "    #apply the imputer separately to the train and test dataset\n",
    "    train[col] = simple_imputer.transform(train[col].values.reshape(-1, 1))\n",
    "    test[col] = simple_imputer.transform(test[col].values.reshape(-1, 1))"
   ]
  },
  {
   "cell_type": "code",
   "execution_count": 1115,
   "metadata": {},
   "outputs": [],
   "source": [
    "#length of the train set - I will needed to separate the concatenated set later\n",
    "train_objs_num = len(train)\n",
    "\n",
    "#concatenate the test and train sets\n",
    "dataset = pd.concat(objs = [train, test], axis=0)\n",
    "\n",
    "# get dummies on the combined data first\n",
    "dataset_preprocessed  = pd.get_dummies(dataset, columns = categorical_col, prefix = categorical_col, dummy_na = False, drop_first = True)\n",
    "\n",
    "# separate the test and train sets from the combined dataset\n",
    "train = dataset_preprocessed[:train_objs_num]\n",
    "test = dataset_preprocessed[train_objs_num:]"
   ]
  },
  {
   "cell_type": "markdown",
   "metadata": {},
   "source": [
    "# Preprocessing and descriptive statistics of numerical attributes <a class=\"anchor\" id=\"fourth-bullet\"></a>"
   ]
  },
  {
   "cell_type": "markdown",
   "metadata": {},
   "source": [
    "## Continuous attributes <a class=\"anchor\" id=\"5-bullet\"></a>"
   ]
  },
  {
   "cell_type": "code",
   "execution_count": 1116,
   "metadata": {},
   "outputs": [],
   "source": [
    "# engineer features using numeric attributes\n",
    "def numeric_features(df):\n",
    "    '''\n",
    "    Creates new features based on continuous numerical attributes \n",
    "    \n",
    "    Args:\n",
    "    df: DataFrame\n",
    "    \n",
    "    Returns:\n",
    "    df: DataFrame with new features\n",
    "    '''\n",
    "    \n",
    "    #create new features by aggregating several existing features\n",
    "    df['Total_indoor_area'] = df['TotalBsmtSF'] + df['1stFlrSF'] + df['2ndFlrSF']\n",
    "    df['Total_area'] = df['TotalBsmtSF'] + df['1stFlrSF'] + df['2ndFlrSF'] + df['GrLivArea'] + df['GarageArea']\n",
    "    df['Total_bathrooms'] = (df['FullBath'] + (0.5 * df['HalfBath']) + df['BsmtFullBath'] + (0.5 * df['BsmtHalfBath']))\n",
    "    df['Total_baths'] = df['FullBath'] + 0.5 * df['HalfBath']\n",
    "    df['Total_lot_area'] = df['LotFrontage'] + df['LotArea']\n",
    "    df['Total_porch_area'] = df['OpenPorchSF'] + df['EnclosedPorch'] + df['ScreenPorch']\n",
    "    df['Total_finished_basement'] = df['BsmtFinSF1'] + df['BsmtFinSF2']\n",
    "    df['Total_porch_area'] = (df['OpenPorchSF'] + df['3SsnPorch'] + df['EnclosedPorch'] + df['ScreenPorch'] + df['WoodDeckSF'])\n",
    "    \n",
    "    # create dummy variables that take 1 if the detail is present, 0 if absent\n",
    "    df['Pool_dummy'] = df['PoolArea'].apply(lambda x: 1 if x > 0 else 0)\n",
    "    df['2floor_dummy'] = df['2ndFlrSF'].apply(lambda x: 1 if x > 0 else 0)\n",
    "    df['Garage_dummy'] = df['GarageArea'].apply(lambda x: 1 if x > 0 else 0)\n",
    "    df['Basement_dummy'] = df['TotalBsmtSF'].apply(lambda x: 1 if x > 0 else 0)\n",
    "    df['Fireplace_dummy'] = df['Fireplaces'].apply(lambda x: 1 if x > 0 else 0)\n",
    "    \n",
    "    return df"
   ]
  },
  {
   "cell_type": "code",
   "execution_count": 1117,
   "metadata": {},
   "outputs": [],
   "source": [
    "train = numeric_features(train)\n",
    "test = numeric_features(test)"
   ]
  },
  {
   "cell_type": "code",
   "execution_count": 1120,
   "metadata": {},
   "outputs": [
    {
     "data": {
      "text/plain": [
       "Total_lot_area     259\n",
       "LotFrontage        259\n",
       "GarageYrBlt         81\n",
       "GarageFinish        81\n",
       "GarageQual          81\n",
       "GarageCond          81\n",
       "BsmtExposure        38\n",
       "BsmtFinType2        38\n",
       "BsmtQual            37\n",
       "BsmtCond            37\n",
       "BsmtFinType1        37\n",
       "MasVnrArea           8\n",
       "MSZoning_FV          0\n",
       "LandContour_Lvl      0\n",
       "MSSubClass_150       0\n",
       "dtype: int64"
      ]
     },
     "execution_count": 1120,
     "metadata": {},
     "output_type": "execute_result"
    }
   ],
   "source": [
    "# check for null values in attributes\n",
    "pd.isnull(train).sum().sort_values(ascending=False).head(15)"
   ]
  },
  {
   "cell_type": "code",
   "execution_count": 1121,
   "metadata": {},
   "outputs": [
    {
     "data": {
      "text/plain": [
       "LotFrontage          70.049958\n",
       "Total_lot_area    10021.748543\n",
       "MasVnrArea          103.685262\n",
       "GarageYrBlt        1978.506164\n",
       "dtype: float64"
      ]
     },
     "execution_count": 1121,
     "metadata": {},
     "output_type": "execute_result"
    }
   ],
   "source": [
    "# check the means of the numeric variables before imputing \n",
    "train[['LotFrontage','Total_lot_area','MasVnrArea', 'GarageYrBlt']].mean()"
   ]
  },
  {
   "cell_type": "code",
   "execution_count": 1123,
   "metadata": {},
   "outputs": [],
   "source": [
    "\n",
    "\n",
    "# Impute numerical continuous attributes using the closest neighbors\n",
    "# numeric attibutes with missing values\n",
    "num_col = ['LotFrontage','Total_lot_area','MasVnrArea', 'GarageYrBlt', 'Total_area', 'Total_bathrooms', 'BsmtFullBath', 'BsmtHalfBath',\n",
    "          'TotalBsmtSF', 'BsmtUnfSF', 'BsmtFinSF1', 'Total_indoor_area', 'BsmtFinSF2', 'Total_finished_basement', 'GarageArea', 'GarageCars']\n",
    "\n",
    "def knn_imputer(train, test, num_col):\n",
    "    '''\n",
    "    Imputes null values using KNN imputer for selected columns\n",
    "    \n",
    "    Args:\n",
    "    train: DataFrame containing training data\n",
    "    test: DataFrame containing test data\n",
    "    num_cols: continuous numerical columns with null values\n",
    "    \n",
    "    Returns:\n",
    "    train and test datasets where the columns in num_cols are imputed\n",
    "    '''\n",
    "    #initialize imputer\n",
    "    imputer = KNNImputer(n_neighbors=5, weights='uniform', metric='nan_euclidean')\n",
    "    # fit imputer on the combined dataset\n",
    "    for col in num_col:\n",
    "        imputer.fit(pd.concat([train[col], test[col]], axis=0, sort=False).values.reshape(-1, 1))\n",
    "    \n",
    "    #apply the imputer separately to the train and test dataset\n",
    "        train[col] = imputer.transform(train[col].values.reshape(-1, 1))\n",
    "        test[col] = imputer.transform(test[col].values.reshape(-1, 1))\n",
    "    \n",
    "    return train, test"
   ]
  },
  {
   "cell_type": "code",
   "execution_count": 1125,
   "metadata": {},
   "outputs": [
    {
     "data": {
      "text/plain": [
       "(        Id  LotFrontage  LotArea  OverallQual  OverallCond  YearBuilt  \\\n",
       " 0        1         65.0     8450            7            5       2003   \n",
       " 1        2         80.0     9600            6            8       1976   \n",
       " 2        3         68.0    11250            7            5       2001   \n",
       " 3        4         60.0     9550            7            5       1915   \n",
       " 4        5         84.0    14260            8            5       2000   \n",
       " ...    ...          ...      ...          ...          ...        ...   \n",
       " 1455  1456         62.0     7917            6            5       1999   \n",
       " 1456  1457         85.0    13175            6            6       1978   \n",
       " 1457  1458         66.0     9042            7            9       1941   \n",
       " 1458  1459         68.0     9717            5            6       1950   \n",
       " 1459  1460         75.0     9937            5            6       1965   \n",
       " \n",
       "       YearRemodAdd  MasVnrArea ExterQual ExterCond  ... Total_bathrooms  \\\n",
       " 0             2003       196.0        Gd        TA  ...             3.5   \n",
       " 1             1976         0.0        TA        TA  ...             2.5   \n",
       " 2             2002       162.0        Gd        TA  ...             3.5   \n",
       " 3             1970         0.0        TA        TA  ...             2.0   \n",
       " 4             2000       350.0        Gd        TA  ...             3.5   \n",
       " ...            ...         ...       ...       ...  ...             ...   \n",
       " 1455          2000         0.0        TA        TA  ...             2.5   \n",
       " 1456          1988       119.0        TA        TA  ...             3.0   \n",
       " 1457          2006         0.0        Ex        Gd  ...             2.0   \n",
       " 1458          1996         0.0        TA        TA  ...             2.0   \n",
       " 1459          1965         0.0        Gd        TA  ...             2.5   \n",
       " \n",
       "      Total_baths Total_lot_area Total_porch_area  Total_finished_basement  \\\n",
       " 0            2.5         8515.0               61                    706.0   \n",
       " 1            2.0         9680.0              298                    978.0   \n",
       " 2            2.5        11318.0               42                    486.0   \n",
       " 3            1.0         9610.0              307                    216.0   \n",
       " 4            2.5        14344.0              276                    655.0   \n",
       " ...          ...            ...              ...                      ...   \n",
       " 1455         2.5         7979.0               40                      0.0   \n",
       " 1456         2.0        13260.0              349                    953.0   \n",
       " 1457         2.0         9108.0               60                    275.0   \n",
       " 1458         1.0         9785.0              478                   1078.0   \n",
       " 1459         1.5        10012.0              804                   1120.0   \n",
       " \n",
       "      Pool_dummy  2floor_dummy  Garage_dummy  Basement_dummy Fireplace_dummy  \n",
       " 0             0             1             1               1               0  \n",
       " 1             0             0             1               1               1  \n",
       " 2             0             1             1               1               1  \n",
       " 3             0             1             1               1               1  \n",
       " 4             0             1             1               1               1  \n",
       " ...         ...           ...           ...             ...             ...  \n",
       " 1455          0             1             1               1               1  \n",
       " 1456          0             0             1               1               1  \n",
       " 1457          0             1             1               1               1  \n",
       " 1458          0             0             1               1               0  \n",
       " 1459          0             0             1               1               0  \n",
       " \n",
       " [1460 rows x 223 columns],\n",
       "         Id  LotFrontage  LotArea  OverallQual  OverallCond  YearBuilt  \\\n",
       " 0     1461         80.0    11622            5            6       1961   \n",
       " 1     1462         81.0    14267            6            6       1958   \n",
       " 2     1463         74.0    13830            5            5       1997   \n",
       " 3     1464         78.0     9978            6            6       1998   \n",
       " 4     1465         43.0     5005            8            5       1992   \n",
       " ...    ...          ...      ...          ...          ...        ...   \n",
       " 1454  2915         21.0     1936            4            7       1970   \n",
       " 1455  2916         21.0     1894            4            5       1970   \n",
       " 1456  2917        160.0    20000            5            7       1960   \n",
       " 1457  2918         62.0    10441            5            5       1992   \n",
       " 1458  2919         74.0     9627            7            5       1993   \n",
       " \n",
       "       YearRemodAdd  MasVnrArea ExterQual ExterCond  ... Total_bathrooms  \\\n",
       " 0             1961         0.0        TA        TA  ...             1.0   \n",
       " 1             1958       108.0        TA        TA  ...             1.5   \n",
       " 2             1998         0.0        TA        TA  ...             2.5   \n",
       " 3             1998        20.0        TA        TA  ...             2.5   \n",
       " 4             1992         0.0        Gd        TA  ...             2.0   \n",
       " ...            ...         ...       ...       ...  ...             ...   \n",
       " 1454          1970         0.0        TA        TA  ...             1.5   \n",
       " 1455          1970         0.0        TA        TA  ...             1.5   \n",
       " 1456          1996         0.0        TA        TA  ...             2.0   \n",
       " 1457          1992         0.0        TA        TA  ...             1.5   \n",
       " 1458          1994        94.0        TA        TA  ...             2.5   \n",
       " \n",
       "      Total_baths Total_lot_area Total_porch_area  Total_finished_basement  \\\n",
       " 0            1.0        11702.0              260                    612.0   \n",
       " 1            1.5        14348.0              429                    923.0   \n",
       " 2            2.5        13904.0              246                    791.0   \n",
       " 3            2.5        10056.0              396                    602.0   \n",
       " 4            2.0         5048.0              226                    263.0   \n",
       " ...          ...            ...              ...                      ...   \n",
       " 1454         1.5         1957.0                0                      0.0   \n",
       " 1455         1.5         1915.0               24                    252.0   \n",
       " 1456         1.0        20160.0              474                   1224.0   \n",
       " 1457         1.0        10503.0              112                    337.0   \n",
       " 1458         2.5         9701.0              238                    758.0   \n",
       " \n",
       "      Pool_dummy  2floor_dummy  Garage_dummy  Basement_dummy Fireplace_dummy  \n",
       " 0             0             0             1               1               0  \n",
       " 1             0             0             1               1               0  \n",
       " 2             0             1             1               1               1  \n",
       " 3             0             1             1               1               1  \n",
       " 4             0             0             1               1               0  \n",
       " ...         ...           ...           ...             ...             ...  \n",
       " 1454          0             1             0               1               0  \n",
       " 1455          0             1             1               1               0  \n",
       " 1456          0             0             1               1               1  \n",
       " 1457          0             0             0               1               0  \n",
       " 1458          0             1             1               1               1  \n",
       " \n",
       " [1459 rows x 223 columns])"
      ]
     },
     "execution_count": 1125,
     "metadata": {},
     "output_type": "execute_result"
    }
   ],
   "source": [
    "knn_imputer(train, test, num_col)"
   ]
  },
  {
   "cell_type": "code",
   "execution_count": 1126,
   "metadata": {},
   "outputs": [
    {
     "data": {
      "text/plain": [
       "LotFrontage         69.917946\n",
       "Total_lot_area    9981.619489\n",
       "MasVnrArea         103.677130\n",
       "GarageYrBlt       1978.484374\n",
       "dtype: float64"
      ]
     },
     "execution_count": 1126,
     "metadata": {},
     "output_type": "execute_result"
    }
   ],
   "source": [
    "# check that the means of the numerical attributes have decreased after imputation \n",
    "train[['LotFrontage','Total_lot_area','MasVnrArea', 'GarageYrBlt']].mean()"
   ]
  },
  {
   "cell_type": "code",
   "execution_count": 1127,
   "metadata": {},
   "outputs": [
    {
     "data": {
      "text/plain": [
       "GarageFinish        81\n",
       "GarageQual          81\n",
       "GarageCond          81\n",
       "BsmtFinType2        38\n",
       "BsmtExposure        38\n",
       "BsmtQual            37\n",
       "BsmtFinType1        37\n",
       "BsmtCond            37\n",
       "LandContour_HLS      0\n",
       "LandContour_Low      0\n",
       "Utilities_NoSeWa     0\n",
       "LandContour_Lvl      0\n",
       "dtype: int64"
      ]
     },
     "execution_count": 1127,
     "metadata": {},
     "output_type": "execute_result"
    }
   ],
   "source": [
    "# verify that only categorical attributes have missing values - to be imputed later\n",
    "pd.isnull(train).sum().sort_values(ascending=False).head(12)"
   ]
  },
  {
   "cell_type": "markdown",
   "metadata": {},
   "source": [
    "## Ordinal attributes <a class=\"anchor\" id=\"6-bullet\"></a>"
   ]
  },
  {
   "cell_type": "code",
   "execution_count": 1128,
   "metadata": {},
   "outputs": [],
   "source": [
    "# list of variables to be treated as ordinal\n",
    "ordinal_col = [\"OverallQual\", \"OverallCond\", \"ExterQual\", \"ExterCond\", \"BsmtQual\", \"BsmtCond\", \n",
    "               \"BsmtExposure\", \"BsmtFinType1\", \"BsmtFinType2\", \"HeatingQC\", \"KitchenQual\", \n",
    "               \"Functional\", \"GarageFinish\", \"GarageQual\", \"GarageCond\", \n",
    "               \"PavedDrive\"]"
   ]
  },
  {
   "cell_type": "code",
   "execution_count": 1129,
   "metadata": {},
   "outputs": [
    {
     "data": {
      "text/plain": [
       "GarageCond      81\n",
       "GarageQual      81\n",
       "GarageFinish    81\n",
       "BsmtFinType2    38\n",
       "BsmtExposure    38\n",
       "BsmtFinType1    37\n",
       "BsmtCond        37\n",
       "BsmtQual        37\n",
       "PavedDrive       0\n",
       "Functional       0\n",
       "KitchenQual      0\n",
       "HeatingQC        0\n",
       "ExterCond        0\n",
       "ExterQual        0\n",
       "OverallCond      0\n",
       "OverallQual      0\n",
       "dtype: int64"
      ]
     },
     "execution_count": 1129,
     "metadata": {},
     "output_type": "execute_result"
    }
   ],
   "source": [
    "#check for missing values in the ordianl attributes\n",
    "pd.isnull(train[ordinal_col]).sum().sort_values(ascending=False)"
   ]
  },
  {
   "cell_type": "code",
   "execution_count": 1131,
   "metadata": {},
   "outputs": [
    {
     "data": {
      "text/plain": [
       "(        Id  LotFrontage  LotArea  OverallQual  OverallCond  YearBuilt  \\\n",
       " 0        1         65.0     8450            7            5       2003   \n",
       " 1        2         80.0     9600            6            8       1976   \n",
       " 2        3         68.0    11250            7            5       2001   \n",
       " 3        4         60.0     9550            7            5       1915   \n",
       " 4        5         84.0    14260            8            5       2000   \n",
       " ...    ...          ...      ...          ...          ...        ...   \n",
       " 1455  1456         62.0     7917            6            5       1999   \n",
       " 1456  1457         85.0    13175            6            6       1978   \n",
       " 1457  1458         66.0     9042            7            9       1941   \n",
       " 1458  1459         68.0     9717            5            6       1950   \n",
       " 1459  1460         75.0     9937            5            6       1965   \n",
       " \n",
       "       YearRemodAdd  MasVnrArea ExterQual ExterCond  ... Total_bathrooms  \\\n",
       " 0             2003       196.0        Gd        TA  ...             3.5   \n",
       " 1             1976         0.0        TA        TA  ...             2.5   \n",
       " 2             2002       162.0        Gd        TA  ...             3.5   \n",
       " 3             1970         0.0        TA        TA  ...             2.0   \n",
       " 4             2000       350.0        Gd        TA  ...             3.5   \n",
       " ...            ...         ...       ...       ...  ...             ...   \n",
       " 1455          2000         0.0        TA        TA  ...             2.5   \n",
       " 1456          1988       119.0        TA        TA  ...             3.0   \n",
       " 1457          2006         0.0        Ex        Gd  ...             2.0   \n",
       " 1458          1996         0.0        TA        TA  ...             2.0   \n",
       " 1459          1965         0.0        Gd        TA  ...             2.5   \n",
       " \n",
       "      Total_baths Total_lot_area Total_porch_area  Total_finished_basement  \\\n",
       " 0            2.5         8515.0               61                    706.0   \n",
       " 1            2.0         9680.0              298                    978.0   \n",
       " 2            2.5        11318.0               42                    486.0   \n",
       " 3            1.0         9610.0              307                    216.0   \n",
       " 4            2.5        14344.0              276                    655.0   \n",
       " ...          ...            ...              ...                      ...   \n",
       " 1455         2.5         7979.0               40                      0.0   \n",
       " 1456         2.0        13260.0              349                    953.0   \n",
       " 1457         2.0         9108.0               60                    275.0   \n",
       " 1458         1.0         9785.0              478                   1078.0   \n",
       " 1459         1.5        10012.0              804                   1120.0   \n",
       " \n",
       "      Pool_dummy  2floor_dummy  Garage_dummy  Basement_dummy Fireplace_dummy  \n",
       " 0             0             1             1               1               0  \n",
       " 1             0             0             1               1               1  \n",
       " 2             0             1             1               1               1  \n",
       " 3             0             1             1               1               1  \n",
       " 4             0             1             1               1               1  \n",
       " ...         ...           ...           ...             ...             ...  \n",
       " 1455          0             1             1               1               1  \n",
       " 1456          0             0             1               1               1  \n",
       " 1457          0             1             1               1               1  \n",
       " 1458          0             0             1               1               0  \n",
       " 1459          0             0             1               1               0  \n",
       " \n",
       " [1460 rows x 223 columns],\n",
       "         Id  LotFrontage  LotArea  OverallQual  OverallCond  YearBuilt  \\\n",
       " 0     1461         80.0    11622            5            6       1961   \n",
       " 1     1462         81.0    14267            6            6       1958   \n",
       " 2     1463         74.0    13830            5            5       1997   \n",
       " 3     1464         78.0     9978            6            6       1998   \n",
       " 4     1465         43.0     5005            8            5       1992   \n",
       " ...    ...          ...      ...          ...          ...        ...   \n",
       " 1454  2915         21.0     1936            4            7       1970   \n",
       " 1455  2916         21.0     1894            4            5       1970   \n",
       " 1456  2917        160.0    20000            5            7       1960   \n",
       " 1457  2918         62.0    10441            5            5       1992   \n",
       " 1458  2919         74.0     9627            7            5       1993   \n",
       " \n",
       "       YearRemodAdd  MasVnrArea ExterQual ExterCond  ... Total_bathrooms  \\\n",
       " 0             1961         0.0        TA        TA  ...             1.0   \n",
       " 1             1958       108.0        TA        TA  ...             1.5   \n",
       " 2             1998         0.0        TA        TA  ...             2.5   \n",
       " 3             1998        20.0        TA        TA  ...             2.5   \n",
       " 4             1992         0.0        Gd        TA  ...             2.0   \n",
       " ...            ...         ...       ...       ...  ...             ...   \n",
       " 1454          1970         0.0        TA        TA  ...             1.5   \n",
       " 1455          1970         0.0        TA        TA  ...             1.5   \n",
       " 1456          1996         0.0        TA        TA  ...             2.0   \n",
       " 1457          1992         0.0        TA        TA  ...             1.5   \n",
       " 1458          1994        94.0        TA        TA  ...             2.5   \n",
       " \n",
       "      Total_baths Total_lot_area Total_porch_area  Total_finished_basement  \\\n",
       " 0            1.0        11702.0              260                    612.0   \n",
       " 1            1.5        14348.0              429                    923.0   \n",
       " 2            2.5        13904.0              246                    791.0   \n",
       " 3            2.5        10056.0              396                    602.0   \n",
       " 4            2.0         5048.0              226                    263.0   \n",
       " ...          ...            ...              ...                      ...   \n",
       " 1454         1.5         1957.0                0                      0.0   \n",
       " 1455         1.5         1915.0               24                    252.0   \n",
       " 1456         1.0        20160.0              474                   1224.0   \n",
       " 1457         1.0        10503.0              112                    337.0   \n",
       " 1458         2.5         9701.0              238                    758.0   \n",
       " \n",
       "      Pool_dummy  2floor_dummy  Garage_dummy  Basement_dummy Fireplace_dummy  \n",
       " 0             0             0             1               1               0  \n",
       " 1             0             0             1               1               0  \n",
       " 2             0             1             1               1               1  \n",
       " 3             0             1             1               1               1  \n",
       " 4             0             0             1               1               0  \n",
       " ...         ...           ...           ...             ...             ...  \n",
       " 1454          0             1             0               1               0  \n",
       " 1455          0             1             1               1               0  \n",
       " 1456          0             0             1               1               1  \n",
       " 1457          0             0             0               1               0  \n",
       " 1458          0             1             1               1               1  \n",
       " \n",
       " [1459 rows x 223 columns])"
      ]
     },
     "execution_count": 1131,
     "metadata": {},
     "output_type": "execute_result"
    }
   ],
   "source": [
    "# impute ordinal attributes using the most frequent value\n",
    "def simple_imputer(train, test, ordinal_col):\n",
    "    '''\n",
    "    Imputes null values using simple imputer for selected columns\n",
    "    \n",
    "    Args:\n",
    "    train: DataFrame containing training data\n",
    "    test: DataFrame containing test data\n",
    "    ordinal_col: list of ordinal attributes with null values\n",
    "    \n",
    "    Returns:\n",
    "    train and test datasets where the columns in ordinal_col are imputed\n",
    "    '''\n",
    "    #initialize imputer\n",
    "    imputer = SimpleImputer(missing_values=np.nan, strategy='most_frequent')\n",
    "    # fit imputer on the combined dataset\n",
    "    for col in ordinal_col:\n",
    "        imputer.fit(pd.concat([train[col], test[col]], axis=0, sort=False).values.reshape(-1, 1))\n",
    "    \n",
    "    #apply the imputer separately to the train and test dataset\n",
    "        train[col] = imputer.transform(train[col].values.reshape(-1, 1))\n",
    "        test[col] = imputer.transform(test[col].values.reshape(-1, 1))\n",
    "    \n",
    "    return train, test\n",
    "\n",
    "simple_imputer(train, test, ordinal_col)"
   ]
  },
  {
   "cell_type": "code",
   "execution_count": 1133,
   "metadata": {},
   "outputs": [
    {
     "data": {
      "text/plain": [
       "PavedDrive      0\n",
       "GarageCond      0\n",
       "GarageQual      0\n",
       "GarageFinish    0\n",
       "Functional      0\n",
       "KitchenQual     0\n",
       "HeatingQC       0\n",
       "BsmtFinType2    0\n",
       "BsmtFinType1    0\n",
       "BsmtExposure    0\n",
       "BsmtCond        0\n",
       "BsmtQual        0\n",
       "ExterCond       0\n",
       "ExterQual       0\n",
       "OverallCond     0\n",
       "OverallQual     0\n",
       "dtype: int64"
      ]
     },
     "execution_count": 1133,
     "metadata": {},
     "output_type": "execute_result"
    }
   ],
   "source": [
    "#check if any null values left in ordinal attributes\n",
    "pd.isnull(test[ordinal_col]).sum().sort_values(ascending=False)"
   ]
  },
  {
   "cell_type": "code",
   "execution_count": 1134,
   "metadata": {},
   "outputs": [],
   "source": [
    "#create a dictionary of columns\n",
    "dict_cols = {0: [\"OverallQual\", \"OverallCond\"],\n",
    "1: [\"ExterQual\", \"ExterCond\", \"BsmtQual\", \"BsmtCond\", 'HeatingQC', 'KitchenQual', 'GarageQual', 'GarageCond'], \n",
    "2: ['BsmtExposure'], \n",
    "3: ['BsmtFinType1', 'BsmtFinType2'],\n",
    "4: ['Functional'],\n",
    "5: ['GarageFinish'], \n",
    "6: ['PavedDrive']}"
   ]
  },
  {
   "cell_type": "code",
   "execution_count": 1135,
   "metadata": {},
   "outputs": [],
   "source": [
    "# create an ordered dictionary of categories\n",
    "dict_cats = {0: [1, 2, 3, 4, 5, 6, 7, 8, 9, 10],\n",
    "1: ['Po', 'Fa', 'TA', 'Gd', 'Ex'],\n",
    "2: ['No', 'Mn', 'Av', 'Gd'],\n",
    "3: ['Unf', 'LwQ', 'Rec', 'BLQ', 'ALQ', 'GLQ'], \n",
    "4: ['Sal', 'Sev', 'Maj2', 'Maj1', 'Mod', 'Min2', 'Min1', 'Typ'], \n",
    "5: ['Unf', 'RFn', 'Fin'],\n",
    "6: ['N', 'P', 'Y']}"
   ]
  },
  {
   "cell_type": "code",
   "execution_count": 1136,
   "metadata": {},
   "outputs": [
    {
     "name": "stdout",
     "output_type": "stream",
     "text": [
      "[1, 2, 3, 4, 5, 6, 7, 8, 9, 10]\n",
      "OverallQual\n",
      "Finished\n",
      "OverallCond\n",
      "Finished\n",
      "['Po', 'Fa', 'TA', 'Gd', 'Ex']\n",
      "ExterQual\n",
      "Finished\n",
      "ExterCond\n",
      "Finished\n",
      "BsmtQual\n",
      "Finished\n",
      "BsmtCond\n",
      "Finished\n",
      "HeatingQC\n",
      "Finished\n",
      "KitchenQual\n",
      "Finished\n",
      "GarageQual\n",
      "Finished\n",
      "GarageCond\n",
      "Finished\n",
      "['No', 'Mn', 'Av', 'Gd']\n",
      "BsmtExposure\n",
      "Finished\n",
      "['Unf', 'LwQ', 'Rec', 'BLQ', 'ALQ', 'GLQ']\n",
      "BsmtFinType1\n",
      "Finished\n",
      "BsmtFinType2\n",
      "Finished\n",
      "['Sal', 'Sev', 'Maj2', 'Maj1', 'Mod', 'Min2', 'Min1', 'Typ']\n",
      "Functional\n",
      "Finished\n",
      "['Unf', 'RFn', 'Fin']\n",
      "GarageFinish\n",
      "Finished\n",
      "['N', 'P', 'Y']\n",
      "PavedDrive\n",
      "Finished\n"
     ]
    }
   ],
   "source": [
    "# iterate through columns in dict_cols and encode ordinal variables of each attribute using the specific order given in dict_cats\n",
    "for i in range(0, 7):\n",
    "    print(dict_cats[i])\n",
    "    encoder = OrdinalEncoder(categories = [dict_cats[i]])\n",
    "    for col in dict_cols[i]:\n",
    "        print(col)\n",
    "        encoder.fit(pd.concat([train[col], test[col]], axis=0, sort=False).values.reshape(-1, 1))\n",
    "        train[col] = encoder.transform(train[col].values.reshape(-1, 1))\n",
    "        test[col] = encoder.transform(test[col].values.reshape(-1, 1))\n",
    "        print(\"Finished\")"
   ]
  },
  {
   "cell_type": "code",
   "execution_count": 1137,
   "metadata": {},
   "outputs": [
    {
     "data": {
      "text/plain": [
       "(BsmtFinType2\n",
       " 0.0             1294\n",
       " 2.0               54\n",
       " 1.0               46\n",
       " 3.0               33\n",
       " 4.0               19\n",
       " 5.0               14\n",
       " dtype: int64,\n",
       " BsmtFinType2\n",
       " 0.0             1279\n",
       " 2.0               51\n",
       " 1.0               41\n",
       " 3.0               35\n",
       " 4.0               33\n",
       " 5.0               20\n",
       " dtype: int64)"
      ]
     },
     "execution_count": 1137,
     "metadata": {},
     "output_type": "execute_result"
    }
   ],
   "source": [
    "#check if encoding was successful\n",
    "train[['BsmtFinType2']].value_counts(), test[['BsmtFinType2']].value_counts()"
   ]
  },
  {
   "cell_type": "code",
   "execution_count": 1140,
   "metadata": {},
   "outputs": [
    {
     "data": {
      "text/plain": [
       "(Fireplace_dummy        0\n",
       " MSZoning_RM            0\n",
       " LotConfig_FR3          0\n",
       " LotConfig_FR2          0\n",
       " LotConfig_CulDSac      0\n",
       "                       ..\n",
       " Exterior1st_HdBoard    0\n",
       " Exterior1st_CemntBd    0\n",
       " Exterior1st_CBlock     0\n",
       " Exterior1st_BrkFace    0\n",
       " Id                     0\n",
       " Length: 223, dtype: int64,\n",
       " SalePrice              1459\n",
       " Fireplace_dummy           0\n",
       " MSZoning_RM               0\n",
       " LotConfig_FR3             0\n",
       " LotConfig_FR2             0\n",
       "                        ... \n",
       " Exterior1st_HdBoard       0\n",
       " Exterior1st_CemntBd       0\n",
       " Exterior1st_CBlock        0\n",
       " Exterior1st_BrkFace       0\n",
       " Id                        0\n",
       " Length: 223, dtype: int64)"
      ]
     },
     "execution_count": 1140,
     "metadata": {},
     "output_type": "execute_result"
    }
   ],
   "source": [
    "#check for presence of any null values in the da\n",
    "pd.isnull(train).sum().sort_values(ascending=False), pd.isnull(test).sum().sort_values(ascending=False)"
   ]
  },
  {
   "cell_type": "markdown",
   "metadata": {},
   "source": [
    "## Descriptive statistics of numerical attributes <a class=\"anchor\" id=\"7-bullet\"></a>"
   ]
  },
  {
   "cell_type": "code",
   "execution_count": 1348,
   "metadata": {},
   "outputs": [],
   "source": [
    "# gather all numerical attributes by combinining\n",
    "num_attributes = num_col + ordinal_col"
   ]
  },
  {
   "cell_type": "code",
   "execution_count": 1349,
   "metadata": {},
   "outputs": [
    {
     "data": {
      "text/html": [
       "<div>\n",
       "<style scoped>\n",
       "    .dataframe tbody tr th:only-of-type {\n",
       "        vertical-align: middle;\n",
       "    }\n",
       "\n",
       "    .dataframe tbody tr th {\n",
       "        vertical-align: top;\n",
       "    }\n",
       "\n",
       "    .dataframe thead th {\n",
       "        text-align: right;\n",
       "    }\n",
       "</style>\n",
       "<table border=\"1\" class=\"dataframe\">\n",
       "  <thead>\n",
       "    <tr style=\"text-align: right;\">\n",
       "      <th></th>\n",
       "      <th>LotFrontage</th>\n",
       "      <th>Total_lot_area</th>\n",
       "      <th>MasVnrArea</th>\n",
       "      <th>GarageYrBlt</th>\n",
       "      <th>Total_area</th>\n",
       "      <th>Total_bathrooms</th>\n",
       "      <th>BsmtFullBath</th>\n",
       "      <th>BsmtHalfBath</th>\n",
       "      <th>TotalBsmtSF</th>\n",
       "      <th>BsmtUnfSF</th>\n",
       "      <th>BsmtFinSF1</th>\n",
       "      <th>Total_indoor_area</th>\n",
       "    </tr>\n",
       "  </thead>\n",
       "  <tbody>\n",
       "    <tr>\n",
       "      <th>count</th>\n",
       "      <td>1456.00</td>\n",
       "      <td>1456.00</td>\n",
       "      <td>1456.00</td>\n",
       "      <td>1456.00</td>\n",
       "      <td>1456.00</td>\n",
       "      <td>1456.00</td>\n",
       "      <td>1456.00</td>\n",
       "      <td>1456.00</td>\n",
       "      <td>1456.00</td>\n",
       "      <td>1456.00</td>\n",
       "      <td>1456.00</td>\n",
       "      <td>1456.00</td>\n",
       "    </tr>\n",
       "    <tr>\n",
       "      <th>mean</th>\n",
       "      <td>69.69</td>\n",
       "      <td>9922.43</td>\n",
       "      <td>102.25</td>\n",
       "      <td>1978.42</td>\n",
       "      <td>4537.36</td>\n",
       "      <td>2.21</td>\n",
       "      <td>0.42</td>\n",
       "      <td>0.06</td>\n",
       "      <td>1052.36</td>\n",
       "      <td>567.23</td>\n",
       "      <td>438.46</td>\n",
       "      <td>2556.04</td>\n",
       "    </tr>\n",
       "    <tr>\n",
       "      <th>std</th>\n",
       "      <td>21.05</td>\n",
       "      <td>7019.85</td>\n",
       "      <td>178.50</td>\n",
       "      <td>23.99</td>\n",
       "      <td>1364.97</td>\n",
       "      <td>0.78</td>\n",
       "      <td>0.52</td>\n",
       "      <td>0.24</td>\n",
       "      <td>415.17</td>\n",
       "      <td>442.32</td>\n",
       "      <td>433.15</td>\n",
       "      <td>773.91</td>\n",
       "    </tr>\n",
       "    <tr>\n",
       "      <th>min</th>\n",
       "      <td>21.00</td>\n",
       "      <td>1324.00</td>\n",
       "      <td>0.00</td>\n",
       "      <td>1900.00</td>\n",
       "      <td>668.00</td>\n",
       "      <td>1.00</td>\n",
       "      <td>0.00</td>\n",
       "      <td>0.00</td>\n",
       "      <td>0.00</td>\n",
       "      <td>0.00</td>\n",
       "      <td>0.00</td>\n",
       "      <td>334.00</td>\n",
       "    </tr>\n",
       "    <tr>\n",
       "      <th>25%</th>\n",
       "      <td>60.00</td>\n",
       "      <td>8043.75</td>\n",
       "      <td>0.00</td>\n",
       "      <td>1962.00</td>\n",
       "      <td>3552.00</td>\n",
       "      <td>2.00</td>\n",
       "      <td>0.00</td>\n",
       "      <td>0.00</td>\n",
       "      <td>795.00</td>\n",
       "      <td>222.50</td>\n",
       "      <td>0.00</td>\n",
       "      <td>2008.00</td>\n",
       "    </tr>\n",
       "    <tr>\n",
       "      <th>50%</th>\n",
       "      <td>69.31</td>\n",
       "      <td>9795.54</td>\n",
       "      <td>0.00</td>\n",
       "      <td>1978.11</td>\n",
       "      <td>4379.00</td>\n",
       "      <td>2.00</td>\n",
       "      <td>0.00</td>\n",
       "      <td>0.00</td>\n",
       "      <td>991.00</td>\n",
       "      <td>477.50</td>\n",
       "      <td>381.00</td>\n",
       "      <td>2472.00</td>\n",
       "    </tr>\n",
       "    <tr>\n",
       "      <th>75%</th>\n",
       "      <td>79.00</td>\n",
       "      <td>10752.50</td>\n",
       "      <td>162.25</td>\n",
       "      <td>2001.00</td>\n",
       "      <td>5312.25</td>\n",
       "      <td>2.50</td>\n",
       "      <td>1.00</td>\n",
       "      <td>0.00</td>\n",
       "      <td>1296.25</td>\n",
       "      <td>808.00</td>\n",
       "      <td>709.00</td>\n",
       "      <td>3000.75</td>\n",
       "    </tr>\n",
       "    <tr>\n",
       "      <th>max</th>\n",
       "      <td>313.00</td>\n",
       "      <td>215395.00</td>\n",
       "      <td>1600.00</td>\n",
       "      <td>2010.00</td>\n",
       "      <td>12161.00</td>\n",
       "      <td>6.00</td>\n",
       "      <td>3.00</td>\n",
       "      <td>2.00</td>\n",
       "      <td>3206.00</td>\n",
       "      <td>2336.00</td>\n",
       "      <td>2188.00</td>\n",
       "      <td>6872.00</td>\n",
       "    </tr>\n",
       "  </tbody>\n",
       "</table>\n",
       "</div>"
      ],
      "text/plain": [
       "       LotFrontage  Total_lot_area  MasVnrArea  GarageYrBlt  Total_area  \\\n",
       "count      1456.00         1456.00     1456.00      1456.00     1456.00   \n",
       "mean         69.69         9922.43      102.25      1978.42     4537.36   \n",
       "std          21.05         7019.85      178.50        23.99     1364.97   \n",
       "min          21.00         1324.00        0.00      1900.00      668.00   \n",
       "25%          60.00         8043.75        0.00      1962.00     3552.00   \n",
       "50%          69.31         9795.54        0.00      1978.11     4379.00   \n",
       "75%          79.00        10752.50      162.25      2001.00     5312.25   \n",
       "max         313.00       215395.00     1600.00      2010.00    12161.00   \n",
       "\n",
       "       Total_bathrooms  BsmtFullBath  BsmtHalfBath  TotalBsmtSF  BsmtUnfSF  \\\n",
       "count          1456.00       1456.00       1456.00      1456.00    1456.00   \n",
       "mean              2.21          0.42          0.06      1052.36     567.23   \n",
       "std               0.78          0.52          0.24       415.17     442.32   \n",
       "min               1.00          0.00          0.00         0.00       0.00   \n",
       "25%               2.00          0.00          0.00       795.00     222.50   \n",
       "50%               2.00          0.00          0.00       991.00     477.50   \n",
       "75%               2.50          1.00          0.00      1296.25     808.00   \n",
       "max               6.00          3.00          2.00      3206.00    2336.00   \n",
       "\n",
       "       BsmtFinSF1  Total_indoor_area  \n",
       "count     1456.00            1456.00  \n",
       "mean       438.46            2556.04  \n",
       "std        433.15             773.91  \n",
       "min          0.00             334.00  \n",
       "25%          0.00            2008.00  \n",
       "50%        381.00            2472.00  \n",
       "75%        709.00            3000.75  \n",
       "max       2188.00            6872.00  "
      ]
     },
     "execution_count": 1349,
     "metadata": {},
     "output_type": "execute_result"
    }
   ],
   "source": [
    "# descriptive statistics of numerica values - part 1\n",
    "round(train[num_attributes].iloc[:, :12].describe(), 2)"
   ]
  },
  {
   "cell_type": "code",
   "execution_count": 1350,
   "metadata": {},
   "outputs": [
    {
     "name": "stderr",
     "output_type": "stream",
     "text": [
      "C:\\Users\\uallakulov\\AppData\\Local\\Continuum\\anaconda3\\lib\\site-packages\\ipykernel\\ipkernel.py:287: DeprecationWarning:\n",
      "\n",
      "`should_run_async` will not call `transform_cell` automatically in the future. Please pass the result to `transformed_cell` argument and any exception that happen during thetransform in `preprocessing_exc_tuple` in IPython 7.17 and above.\n",
      "\n"
     ]
    },
    {
     "data": {
      "text/html": [
       "<div>\n",
       "<style scoped>\n",
       "    .dataframe tbody tr th:only-of-type {\n",
       "        vertical-align: middle;\n",
       "    }\n",
       "\n",
       "    .dataframe tbody tr th {\n",
       "        vertical-align: top;\n",
       "    }\n",
       "\n",
       "    .dataframe thead th {\n",
       "        text-align: right;\n",
       "    }\n",
       "</style>\n",
       "<table border=\"1\" class=\"dataframe\">\n",
       "  <thead>\n",
       "    <tr style=\"text-align: right;\">\n",
       "      <th></th>\n",
       "      <th>BsmtFinSF2</th>\n",
       "      <th>Total_finished_basement</th>\n",
       "      <th>GarageArea</th>\n",
       "      <th>GarageCars</th>\n",
       "      <th>OverallQual</th>\n",
       "      <th>OverallCond</th>\n",
       "      <th>ExterQual</th>\n",
       "      <th>ExterCond</th>\n",
       "      <th>BsmtQual</th>\n",
       "      <th>BsmtCond</th>\n",
       "      <th>BsmtExposure</th>\n",
       "      <th>BsmtFinType1</th>\n",
       "    </tr>\n",
       "  </thead>\n",
       "  <tbody>\n",
       "    <tr>\n",
       "      <th>count</th>\n",
       "      <td>1456.00</td>\n",
       "      <td>1456.00</td>\n",
       "      <td>1456.00</td>\n",
       "      <td>1456.00</td>\n",
       "      <td>1456.00</td>\n",
       "      <td>1456.00</td>\n",
       "      <td>1456.00</td>\n",
       "      <td>1456.00</td>\n",
       "      <td>1456.00</td>\n",
       "      <td>1456.00</td>\n",
       "      <td>1456.00</td>\n",
       "      <td>1456.00</td>\n",
       "    </tr>\n",
       "    <tr>\n",
       "      <th>mean</th>\n",
       "      <td>46.68</td>\n",
       "      <td>485.14</td>\n",
       "      <td>471.79</td>\n",
       "      <td>1.77</td>\n",
       "      <td>5.09</td>\n",
       "      <td>4.58</td>\n",
       "      <td>2.39</td>\n",
       "      <td>2.08</td>\n",
       "      <td>2.56</td>\n",
       "      <td>2.01</td>\n",
       "      <td>0.65</td>\n",
       "      <td>2.56</td>\n",
       "    </tr>\n",
       "    <tr>\n",
       "      <th>std</th>\n",
       "      <td>161.52</td>\n",
       "      <td>454.75</td>\n",
       "      <td>212.17</td>\n",
       "      <td>0.75</td>\n",
       "      <td>1.38</td>\n",
       "      <td>1.11</td>\n",
       "      <td>0.57</td>\n",
       "      <td>0.35</td>\n",
       "      <td>0.68</td>\n",
       "      <td>0.28</td>\n",
       "      <td>1.04</td>\n",
       "      <td>2.07</td>\n",
       "    </tr>\n",
       "    <tr>\n",
       "      <th>min</th>\n",
       "      <td>0.00</td>\n",
       "      <td>0.00</td>\n",
       "      <td>0.00</td>\n",
       "      <td>0.00</td>\n",
       "      <td>0.00</td>\n",
       "      <td>0.00</td>\n",
       "      <td>1.00</td>\n",
       "      <td>0.00</td>\n",
       "      <td>1.00</td>\n",
       "      <td>0.00</td>\n",
       "      <td>0.00</td>\n",
       "      <td>0.00</td>\n",
       "    </tr>\n",
       "    <tr>\n",
       "      <th>25%</th>\n",
       "      <td>0.00</td>\n",
       "      <td>0.00</td>\n",
       "      <td>329.50</td>\n",
       "      <td>1.00</td>\n",
       "      <td>4.00</td>\n",
       "      <td>4.00</td>\n",
       "      <td>2.00</td>\n",
       "      <td>2.00</td>\n",
       "      <td>2.00</td>\n",
       "      <td>2.00</td>\n",
       "      <td>0.00</td>\n",
       "      <td>0.00</td>\n",
       "    </tr>\n",
       "    <tr>\n",
       "      <th>50%</th>\n",
       "      <td>0.00</td>\n",
       "      <td>464.00</td>\n",
       "      <td>478.50</td>\n",
       "      <td>2.00</td>\n",
       "      <td>5.00</td>\n",
       "      <td>4.00</td>\n",
       "      <td>2.00</td>\n",
       "      <td>2.00</td>\n",
       "      <td>3.00</td>\n",
       "      <td>2.00</td>\n",
       "      <td>0.00</td>\n",
       "      <td>3.00</td>\n",
       "    </tr>\n",
       "    <tr>\n",
       "      <th>75%</th>\n",
       "      <td>0.00</td>\n",
       "      <td>789.00</td>\n",
       "      <td>576.00</td>\n",
       "      <td>2.00</td>\n",
       "      <td>6.00</td>\n",
       "      <td>5.00</td>\n",
       "      <td>3.00</td>\n",
       "      <td>2.00</td>\n",
       "      <td>3.00</td>\n",
       "      <td>2.00</td>\n",
       "      <td>1.00</td>\n",
       "      <td>5.00</td>\n",
       "    </tr>\n",
       "    <tr>\n",
       "      <th>max</th>\n",
       "      <td>1474.00</td>\n",
       "      <td>2306.00</td>\n",
       "      <td>1390.00</td>\n",
       "      <td>4.00</td>\n",
       "      <td>9.00</td>\n",
       "      <td>8.00</td>\n",
       "      <td>4.00</td>\n",
       "      <td>4.00</td>\n",
       "      <td>4.00</td>\n",
       "      <td>3.00</td>\n",
       "      <td>3.00</td>\n",
       "      <td>5.00</td>\n",
       "    </tr>\n",
       "  </tbody>\n",
       "</table>\n",
       "</div>"
      ],
      "text/plain": [
       "       BsmtFinSF2  Total_finished_basement  GarageArea  GarageCars  \\\n",
       "count     1456.00                  1456.00     1456.00     1456.00   \n",
       "mean        46.68                   485.14      471.79        1.77   \n",
       "std        161.52                   454.75      212.17        0.75   \n",
       "min          0.00                     0.00        0.00        0.00   \n",
       "25%          0.00                     0.00      329.50        1.00   \n",
       "50%          0.00                   464.00      478.50        2.00   \n",
       "75%          0.00                   789.00      576.00        2.00   \n",
       "max       1474.00                  2306.00     1390.00        4.00   \n",
       "\n",
       "       OverallQual  OverallCond  ExterQual  ExterCond  BsmtQual  BsmtCond  \\\n",
       "count      1456.00      1456.00    1456.00    1456.00   1456.00   1456.00   \n",
       "mean          5.09         4.58       2.39       2.08      2.56      2.01   \n",
       "std           1.38         1.11       0.57       0.35      0.68      0.28   \n",
       "min           0.00         0.00       1.00       0.00      1.00      0.00   \n",
       "25%           4.00         4.00       2.00       2.00      2.00      2.00   \n",
       "50%           5.00         4.00       2.00       2.00      3.00      2.00   \n",
       "75%           6.00         5.00       3.00       2.00      3.00      2.00   \n",
       "max           9.00         8.00       4.00       4.00      4.00      3.00   \n",
       "\n",
       "       BsmtExposure  BsmtFinType1  \n",
       "count       1456.00       1456.00  \n",
       "mean           0.65          2.56  \n",
       "std            1.04          2.07  \n",
       "min            0.00          0.00  \n",
       "25%            0.00          0.00  \n",
       "50%            0.00          3.00  \n",
       "75%            1.00          5.00  \n",
       "max            3.00          5.00  "
      ]
     },
     "execution_count": 1350,
     "metadata": {},
     "output_type": "execute_result"
    }
   ],
   "source": [
    "# descriptive statistics of numerica values - part 2\n",
    "round(train[num_attributes].iloc[:, 12:24].describe(), 2)"
   ]
  },
  {
   "cell_type": "code",
   "execution_count": 1351,
   "metadata": {},
   "outputs": [
    {
     "name": "stderr",
     "output_type": "stream",
     "text": [
      "C:\\Users\\uallakulov\\AppData\\Local\\Continuum\\anaconda3\\lib\\site-packages\\ipykernel\\ipkernel.py:287: DeprecationWarning:\n",
      "\n",
      "`should_run_async` will not call `transform_cell` automatically in the future. Please pass the result to `transformed_cell` argument and any exception that happen during thetransform in `preprocessing_exc_tuple` in IPython 7.17 and above.\n",
      "\n"
     ]
    },
    {
     "data": {
      "text/html": [
       "<div>\n",
       "<style scoped>\n",
       "    .dataframe tbody tr th:only-of-type {\n",
       "        vertical-align: middle;\n",
       "    }\n",
       "\n",
       "    .dataframe tbody tr th {\n",
       "        vertical-align: top;\n",
       "    }\n",
       "\n",
       "    .dataframe thead th {\n",
       "        text-align: right;\n",
       "    }\n",
       "</style>\n",
       "<table border=\"1\" class=\"dataframe\">\n",
       "  <thead>\n",
       "    <tr style=\"text-align: right;\">\n",
       "      <th></th>\n",
       "      <th>BsmtFinType2</th>\n",
       "      <th>HeatingQC</th>\n",
       "      <th>KitchenQual</th>\n",
       "      <th>Functional</th>\n",
       "      <th>GarageFinish</th>\n",
       "      <th>GarageQual</th>\n",
       "      <th>GarageCond</th>\n",
       "      <th>PavedDrive</th>\n",
       "    </tr>\n",
       "  </thead>\n",
       "  <tbody>\n",
       "    <tr>\n",
       "      <th>count</th>\n",
       "      <td>1456.00</td>\n",
       "      <td>1456.00</td>\n",
       "      <td>1456.00</td>\n",
       "      <td>1456.00</td>\n",
       "      <td>1456.00</td>\n",
       "      <td>1456.00</td>\n",
       "      <td>1456.00</td>\n",
       "      <td>1456.00</td>\n",
       "    </tr>\n",
       "    <tr>\n",
       "      <th>mean</th>\n",
       "      <td>0.27</td>\n",
       "      <td>3.14</td>\n",
       "      <td>2.51</td>\n",
       "      <td>6.84</td>\n",
       "      <td>0.77</td>\n",
       "      <td>1.98</td>\n",
       "      <td>1.98</td>\n",
       "      <td>1.86</td>\n",
       "    </tr>\n",
       "    <tr>\n",
       "      <th>std</th>\n",
       "      <td>0.87</td>\n",
       "      <td>0.96</td>\n",
       "      <td>0.66</td>\n",
       "      <td>0.67</td>\n",
       "      <td>0.81</td>\n",
       "      <td>0.24</td>\n",
       "      <td>0.23</td>\n",
       "      <td>0.50</td>\n",
       "    </tr>\n",
       "    <tr>\n",
       "      <th>min</th>\n",
       "      <td>0.00</td>\n",
       "      <td>0.00</td>\n",
       "      <td>1.00</td>\n",
       "      <td>1.00</td>\n",
       "      <td>0.00</td>\n",
       "      <td>0.00</td>\n",
       "      <td>0.00</td>\n",
       "      <td>0.00</td>\n",
       "    </tr>\n",
       "    <tr>\n",
       "      <th>25%</th>\n",
       "      <td>0.00</td>\n",
       "      <td>2.00</td>\n",
       "      <td>2.00</td>\n",
       "      <td>7.00</td>\n",
       "      <td>0.00</td>\n",
       "      <td>2.00</td>\n",
       "      <td>2.00</td>\n",
       "      <td>2.00</td>\n",
       "    </tr>\n",
       "    <tr>\n",
       "      <th>50%</th>\n",
       "      <td>0.00</td>\n",
       "      <td>4.00</td>\n",
       "      <td>2.00</td>\n",
       "      <td>7.00</td>\n",
       "      <td>1.00</td>\n",
       "      <td>2.00</td>\n",
       "      <td>2.00</td>\n",
       "      <td>2.00</td>\n",
       "    </tr>\n",
       "    <tr>\n",
       "      <th>75%</th>\n",
       "      <td>0.00</td>\n",
       "      <td>4.00</td>\n",
       "      <td>3.00</td>\n",
       "      <td>7.00</td>\n",
       "      <td>1.00</td>\n",
       "      <td>2.00</td>\n",
       "      <td>2.00</td>\n",
       "      <td>2.00</td>\n",
       "    </tr>\n",
       "    <tr>\n",
       "      <th>max</th>\n",
       "      <td>5.00</td>\n",
       "      <td>4.00</td>\n",
       "      <td>4.00</td>\n",
       "      <td>7.00</td>\n",
       "      <td>2.00</td>\n",
       "      <td>4.00</td>\n",
       "      <td>4.00</td>\n",
       "      <td>2.00</td>\n",
       "    </tr>\n",
       "  </tbody>\n",
       "</table>\n",
       "</div>"
      ],
      "text/plain": [
       "       BsmtFinType2  HeatingQC  KitchenQual  Functional  GarageFinish  \\\n",
       "count       1456.00    1456.00      1456.00     1456.00       1456.00   \n",
       "mean           0.27       3.14         2.51        6.84          0.77   \n",
       "std            0.87       0.96         0.66        0.67          0.81   \n",
       "min            0.00       0.00         1.00        1.00          0.00   \n",
       "25%            0.00       2.00         2.00        7.00          0.00   \n",
       "50%            0.00       4.00         2.00        7.00          1.00   \n",
       "75%            0.00       4.00         3.00        7.00          1.00   \n",
       "max            5.00       4.00         4.00        7.00          2.00   \n",
       "\n",
       "       GarageQual  GarageCond  PavedDrive  \n",
       "count     1456.00     1456.00     1456.00  \n",
       "mean         1.98        1.98        1.86  \n",
       "std          0.24        0.23        0.50  \n",
       "min          0.00        0.00        0.00  \n",
       "25%          2.00        2.00        2.00  \n",
       "50%          2.00        2.00        2.00  \n",
       "75%          2.00        2.00        2.00  \n",
       "max          4.00        4.00        2.00  "
      ]
     },
     "execution_count": 1351,
     "metadata": {},
     "output_type": "execute_result"
    }
   ],
   "source": [
    "# descriptive statistics of numerica values - part 3\n",
    "round(train[num_attributes].iloc[:, 24:].describe(), 2)"
   ]
  },
  {
   "cell_type": "code",
   "execution_count": 1352,
   "metadata": {},
   "outputs": [
    {
     "name": "stderr",
     "output_type": "stream",
     "text": [
      "C:\\Users\\uallakulov\\AppData\\Local\\Continuum\\anaconda3\\lib\\site-packages\\ipykernel\\ipkernel.py:287: DeprecationWarning:\n",
      "\n",
      "`should_run_async` will not call `transform_cell` automatically in the future. Please pass the result to `transformed_cell` argument and any exception that happen during thetransform in `preprocessing_exc_tuple` in IPython 7.17 and above.\n",
      "\n"
     ]
    },
    {
     "data": {
      "text/plain": [
       "list"
      ]
     },
     "execution_count": 1352,
     "metadata": {},
     "output_type": "execute_result"
    }
   ],
   "source": [
    "type(num_attributes)"
   ]
  },
  {
   "cell_type": "code",
   "execution_count": 1353,
   "metadata": {},
   "outputs": [
    {
     "data": {
      "text/plain": [
       "['LotFrontage',\n",
       " 'Total_lot_area',\n",
       " 'MasVnrArea',\n",
       " 'GarageYrBlt',\n",
       " 'Total_area',\n",
       " 'Total_bathrooms',\n",
       " 'BsmtFullBath',\n",
       " 'BsmtHalfBath',\n",
       " 'TotalBsmtSF',\n",
       " 'BsmtUnfSF',\n",
       " 'BsmtFinSF1',\n",
       " 'Total_indoor_area',\n",
       " 'BsmtFinSF2',\n",
       " 'Total_finished_basement',\n",
       " 'GarageArea',\n",
       " 'GarageCars',\n",
       " 'OverallQual',\n",
       " 'OverallCond',\n",
       " 'ExterQual',\n",
       " 'ExterCond',\n",
       " 'BsmtQual',\n",
       " 'BsmtCond',\n",
       " 'BsmtExposure',\n",
       " 'BsmtFinType1',\n",
       " 'BsmtFinType2',\n",
       " 'HeatingQC',\n",
       " 'KitchenQual',\n",
       " 'Functional',\n",
       " 'GarageFinish',\n",
       " 'GarageQual',\n",
       " 'GarageCond',\n",
       " 'PavedDrive']"
      ]
     },
     "execution_count": 1353,
     "metadata": {},
     "output_type": "execute_result"
    }
   ],
   "source": [
    "num_attributes"
   ]
  },
  {
   "cell_type": "code",
   "execution_count": 1354,
   "metadata": {},
   "outputs": [
    {
     "name": "stderr",
     "output_type": "stream",
     "text": [
      "C:\\Users\\uallakulov\\AppData\\Local\\Continuum\\anaconda3\\lib\\site-packages\\ipykernel_launcher.py:4: SettingWithCopyWarning:\n",
      "\n",
      "\n",
      "A value is trying to be set on a copy of a slice from a DataFrame.\n",
      "Try using .loc[row_indexer,col_indexer] = value instead\n",
      "\n",
      "See the caveats in the documentation: https://pandas.pydata.org/pandas-docs/stable/user_guide/indexing.html#returning-a-view-versus-a-copy\n",
      "\n"
     ]
    },
    {
     "data": {
      "text/plain": [
       "(1456, 35)"
      ]
     },
     "execution_count": 1354,
     "metadata": {},
     "output_type": "execute_result"
    }
   ],
   "source": [
    "# dataset of numerical values for constructing a correllation matrix\n",
    "num_attributes.extend(('YearBuilt', 'YearRemodAdd'))\n",
    "df_corr = train[num_attributes]\n",
    "df_corr['SalePrice'] = train['SalePrice']\n",
    "df_corr.shape"
   ]
  },
  {
   "cell_type": "code",
   "execution_count": 1355,
   "metadata": {},
   "outputs": [
    {
     "data": {
      "text/plain": [
       "<AxesSubplot:>"
      ]
     },
     "execution_count": 1355,
     "metadata": {},
     "output_type": "execute_result"
    },
    {
     "data": {
      "image/png": "[encoded data removed]",
      "text/plain": [
       "<Figure size 1296x1296 with 1 Axes>"
      ]
     },
     "metadata": {
      "needs_background": "light"
     },
     "output_type": "display_data"
    }
   ],
   "source": [
    "# compute correlation values\n",
    "corr = df_corr.corr()\n",
    "\n",
    "#graph\n",
    "mask = np.triu(corr)\n",
    "plt.figure(figsize=(18, 18))\n",
    "sns.heatmap(corr,\n",
    "            annot=True,\n",
    "            fmt='.1f',\n",
    "            cmap='coolwarm',\n",
    "            square=True,\n",
    "            mask=mask,\n",
    "            linewidths=1,\n",
    "            cbar=False)"
   ]
  },
  {
   "cell_type": "markdown",
   "metadata": {},
   "source": [
    "The last row shows the correlation values of different attributes with the sale price. As can be seen, some attributes (dark red) are positively correlation with the sale prices, whereas others (dark blue) are negatively correlated. In the meantime, some attributes have zero correlation with the sale price, meaning they will bring almost no explanatory power in our predictive model. Also, there are a few strong correlations within the explanatory variables, which may cause multicollinearity in regression models. "
   ]
  },
  {
   "cell_type": "markdown",
   "metadata": {},
   "source": [
    "# Prepararation of datasets for modelling <a class=\"anchor\" id=\"9-bullet\"></a>"
   ]
  },
  {
   "cell_type": "markdown",
   "metadata": {},
   "source": [
    "To begin with, let's check for outliers and remove them."
   ]
  },
  {
   "cell_type": "code",
   "execution_count": 1147,
   "metadata": {},
   "outputs": [
    {
     "data": {
      "text/plain": [
       "<AxesSubplot:xlabel='GrLivArea', ylabel='SalePrice'>"
      ]
     },
     "execution_count": 1147,
     "metadata": {},
     "output_type": "execute_result"
    },
    {
     "data": {
      "image/png": "[encoded data removed]",
      "text/plain": [
       "<Figure size 936x360 with 1 Axes>"
      ]
     },
     "metadata": {
      "needs_background": "light"
     },
     "output_type": "display_data"
    }
   ],
   "source": [
    "# check for outliers\n",
    "plt.figure(figsize=(13,5))\n",
    "sns.regplot(x=train['GrLivArea'], y=train['SalePrice'])"
   ]
  },
  {
   "cell_type": "code",
   "execution_count": 1149,
   "metadata": {},
   "outputs": [
    {
     "data": {
      "text/plain": [
       "<AxesSubplot:xlabel='SalePrice'>"
      ]
     },
     "execution_count": 1149,
     "metadata": {},
     "output_type": "execute_result"
    },
    {
     "data": {
      "image/png": "[encoded data removed]",
      "text/plain": [
       "<Figure size 432x288 with 1 Axes>"
      ]
     },
     "metadata": {
      "needs_background": "light"
     },
     "output_type": "display_data"
    }
   ],
   "source": [
    "# check for the 2 outlier sales price datapoints in a boxplot\n",
    "sns.boxplot(x=train['SalePrice'])"
   ]
  },
  {
   "cell_type": "code",
   "execution_count": 1150,
   "metadata": {},
   "outputs": [
    {
     "data": {
      "text/plain": [
       "array([ 523, 1298], dtype=int64)"
      ]
     },
     "execution_count": 1150,
     "metadata": {},
     "output_type": "execute_result"
    }
   ],
   "source": [
    "# capture four outliers\n",
    "outliers = np.where(train['GrLivArea'] > 4500)[0]\n",
    "outliers"
   ]
  },
  {
   "cell_type": "code",
   "execution_count": 1153,
   "metadata": {},
   "outputs": [],
   "source": [
    "#drop the outliers from the train set\n",
    "train = train.drop(train.index[outliers])"
   ]
  },
  {
   "cell_type": "markdown",
   "metadata": {},
   "source": [
    "Next, prepare the training and test datasets by removing the unused attributes and making sure the data types are consistent."
   ]
  },
  {
   "cell_type": "code",
   "execution_count": 1154,
   "metadata": {},
   "outputs": [],
   "source": [
    "# convert all columns to float\n",
    "SalePrice = train['SalePrice']\n",
    "X = train.drop([\"Id\", \"SalePrice\"], axis = 1, inplace = False).astype(float)\n",
    "\n",
    "# targets \n",
    "y = SalePrice.values\n",
    "\n",
    "# set for Kaggle prediction\n",
    "X_test = test.drop([\"Id\", \"SalePrice\"], axis = 1, inplace = False).astype(float)"
   ]
  },
  {
   "cell_type": "code",
   "execution_count": 1362,
   "metadata": {},
   "outputs": [
    {
     "data": {
      "text/plain": [
       "((1456, 221), (1459, 221))"
      ]
     },
     "execution_count": 1362,
     "metadata": {},
     "output_type": "execute_result"
    }
   ],
   "source": [
    "# Now the number of attributes in train and test sets should match\n",
    "X.shape, X_test.shape"
   ]
  },
  {
   "cell_type": "markdown",
   "metadata": {},
   "source": [
    "# Unsupervised learning <a class=\"anchor\" id=\"10-bullet\"></a>"
   ]
  },
  {
   "cell_type": "markdown",
   "metadata": {},
   "source": [
    "## Principal component analysis <a class=\"anchor\" id=\"11-bullet\"></a>"
   ]
  },
  {
   "cell_type": "markdown",
   "metadata": {},
   "source": [
    "First, I appply Principal component analysis (PCA) to the training dataset. PCA is an unsupervised technique helps reduce the dimensionality of high-dimensional datasets while preserving the original structure and relationships inherent to the original dataset. "
   ]
  },
  {
   "cell_type": "code",
   "execution_count": 1158,
   "metadata": {},
   "outputs": [
    {
     "name": "stdout",
     "output_type": "stream",
     "text": [
      ">1 0.535 (0.105)\n",
      ">2 0.602 (0.087)\n",
      ">3 0.664 (0.098)\n",
      ">4 0.687 (0.086)\n",
      ">5 0.737 (0.066)\n",
      ">6 0.745 (0.063)\n",
      ">7 0.754 (0.060)\n",
      ">8 0.756 (0.055)\n",
      ">9 0.757 (0.061)\n",
      ">10 0.753 (0.063)\n"
     ]
    },
    {
     "data": {
      "image/png": "[encoded data removed]",
      "text/plain": [
       "<Figure size 432x288 with 1 Axes>"
      ]
     },
     "metadata": {
      "needs_background": "light"
     },
     "output_type": "display_data"
    }
   ],
   "source": [
    "#ignore warnings\n",
    "warnings.simplefilter('ignore')\n",
    "\n",
    "# get a list of models to evaluate\n",
    "def get_models():\n",
    "    models = dict()\n",
    "\n",
    "    for i in range(1, 11):\n",
    "        steps = [('scaler', MinMaxScaler()), ('pca', PCA(n_components=i)), ('m', GradientBoostingRegressor(random_state = 10))]\n",
    "        models[str(i)] = Pipeline(steps=steps)\n",
    "    return models\n",
    " \n",
    "# evaluate a given model using cross-validation\n",
    "def evaluate_model(model, X, y):\n",
    "    cv = RepeatedStratifiedKFold(n_splits=10, n_repeats=3, random_state=1)\n",
    "    scores = cross_val_score(model, X, y, scoring='r2', cv=cv, n_jobs=-1, error_score=np.nan)\n",
    "    return scores\n",
    " \n",
    "# get the models to evaluate\n",
    "models = get_models()\n",
    "\n",
    "# evaluate the models and store results\n",
    "results, names = list(), list()\n",
    "for name, model in models.items():\n",
    "    scores = evaluate_model(model, X, y)\n",
    "    results.append(scores)\n",
    "    names.append(name)\n",
    "    print('>%s %.3f (%.3f)' % (name, mean(scores), std(scores)))\n",
    "# plot model performance for comparison\n",
    "pyplot.boxplot(results, labels=names, showmeans=True)\n",
    "pyplot.xticks(rotation=45)\n",
    "pyplot.show()\n",
    "\n",
    "warnings.simplefilter('default')"
   ]
  },
  {
   "cell_type": "markdown",
   "metadata": {},
   "source": [
    "As can be seen above, the explained variance ratio starts to level off after 5 components and reaches a peak at 8 components. Next, I'll use 8 components to do k-means clustering. "
   ]
  },
  {
   "cell_type": "markdown",
   "metadata": {},
   "source": [
    "## KMeans clustering <a class=\"anchor\" id=\"13-bullet\"></a>"
   ]
  },
  {
   "cell_type": "markdown",
   "metadata": {},
   "source": [
    "Next, I apply the k-means clustering method to the selected components from the PCA analysis. Using K-means clustering, my objective is to identify clusters of houses with similar charateristics. "
   ]
  },
  {
   "cell_type": "code",
   "execution_count": 1164,
   "metadata": {},
   "outputs": [
    {
     "name": "stderr",
     "output_type": "stream",
     "text": [
      "C:\\Users\\uallakulov\\AppData\\Local\\Continuum\\anaconda3\\lib\\site-packages\\ipykernel\\ipkernel.py:287: DeprecationWarning:\n",
      "\n",
      "`should_run_async` will not call `transform_cell` automatically in the future. Please pass the result to `transformed_cell` argument and any exception that happen during thetransform in `preprocessing_exc_tuple` in IPython 7.17 and above.\n",
      "\n"
     ]
    }
   ],
   "source": [
    "# merge explanatory attributes and target values for cluster analysis\n",
    "df_kmeans = X.merge(pd.Series(y).rename('SalePrice'), left_index=True, right_index=True)\n",
    "\n",
    "# keep column names which will be necessary after scaling the dataset\n",
    "df_kmeans_columns = df_kmeans.columns"
   ]
  },
  {
   "cell_type": "code",
   "execution_count": 1165,
   "metadata": {},
   "outputs": [],
   "source": [
    "# scale the dataset \n",
    "df_kmeans = MinMaxScaler().fit_transform(df_kmeans)"
   ]
  },
  {
   "cell_type": "code",
   "execution_count": 1216,
   "metadata": {},
   "outputs": [
    {
     "data": {
      "image/png": "[encoded data removed]",
      "text/plain": [
       "<Figure size 1152x576 with 1 Axes>"
      ]
     },
     "metadata": {
      "needs_background": "light"
     },
     "output_type": "display_data"
    }
   ],
   "source": [
    "# identify the opminal number of clusters using the elbow method\n",
    "inertia = []\n",
    "K = range(1,12)\n",
    "for k in K:\n",
    "    kmeanModel = KMeans(n_clusters=k, random_state = 42)\n",
    "    kmeanModel.fit(df_kmeans)\n",
    "    inertia.append(kmeanModel.inertia_)\n",
    "    \n",
    "plt.figure(figsize=(16,8))\n",
    "plt.plot(K, inertia, 'bx-')\n",
    "plt.xlabel('k')\n",
    "plt.ylabel('Inertia')\n",
    "plt.title('The Elbow Method showing the optimal k')\n",
    "plt.show()"
   ]
  },
  {
   "cell_type": "code",
   "execution_count": 1217,
   "metadata": {},
   "outputs": [
    {
     "name": "stderr",
     "output_type": "stream",
     "text": [
      "C:\\Users\\uallakulov\\AppData\\Local\\Continuum\\anaconda3\\lib\\site-packages\\ipykernel\\ipkernel.py:287: DeprecationWarning:\n",
      "\n",
      "`should_run_async` will not call `transform_cell` automatically in the future. Please pass the result to `transformed_cell` argument and any exception that happen during thetransform in `preprocessing_exc_tuple` in IPython 7.17 and above.\n",
      "\n"
     ]
    }
   ],
   "source": [
    "# run k-means clustering with 4 clusters\n",
    "kmeans = KMeans(n_clusters=4, random_state=0).fit(df_kmeans)\n",
    "\n",
    "#get labels\n",
    "labels = kmeans.labels_\n",
    "\n",
    "#merge labels \n",
    "df_kmeans = pd.DataFrame(df_kmeans, columns = df_kmeans_columns)\n",
    "df_kmeans = df_kmeans.merge(pd.Series(labels).rename('Labels'), left_index=True, right_index=True)"
   ]
  },
  {
   "cell_type": "code",
   "execution_count": 1218,
   "metadata": {},
   "outputs": [
    {
     "name": "stderr",
     "output_type": "stream",
     "text": [
      "C:\\Users\\uallakulov\\AppData\\Local\\Continuum\\anaconda3\\lib\\site-packages\\ipykernel\\ipkernel.py:287: DeprecationWarning:\n",
      "\n",
      "`should_run_async` will not call `transform_cell` automatically in the future. Please pass the result to `transformed_cell` argument and any exception that happen during thetransform in `preprocessing_exc_tuple` in IPython 7.17 and above.\n",
      "\n"
     ]
    },
    {
     "data": {
      "text/plain": [
       "3    458\n",
       "1    393\n",
       "2    315\n",
       "0    286\n",
       "Name: Labels, dtype: int64"
      ]
     },
     "execution_count": 1218,
     "metadata": {},
     "output_type": "execute_result"
    }
   ],
   "source": [
    "#check how the four clusters divide the dataset \n",
    "df_kmeans['Labels'].value_counts()"
   ]
  },
  {
   "cell_type": "code",
   "execution_count": 1219,
   "metadata": {},
   "outputs": [],
   "source": [
    "# the highest correlated attributes with price\n",
    "high_corr = corr['SalePrice'][abs(corr['SalePrice'])> 0.6].sort_values().index"
   ]
  },
  {
   "cell_type": "code",
   "execution_count": 1220,
   "metadata": {},
   "outputs": [
    {
     "name": "stderr",
     "output_type": "stream",
     "text": [
      "C:\\Users\\uallakulov\\AppData\\Local\\Continuum\\anaconda3\\lib\\site-packages\\ipykernel\\ipkernel.py:287: DeprecationWarning:\n",
      "\n",
      "`should_run_async` will not call `transform_cell` automatically in the future. Please pass the result to `transformed_cell` argument and any exception that happen during thetransform in `preprocessing_exc_tuple` in IPython 7.17 and above.\n",
      "\n"
     ]
    },
    {
     "data": {
      "text/html": [
       "<div>\n",
       "<style scoped>\n",
       "    .dataframe tbody tr th:only-of-type {\n",
       "        vertical-align: middle;\n",
       "    }\n",
       "\n",
       "    .dataframe tbody tr th {\n",
       "        vertical-align: top;\n",
       "    }\n",
       "\n",
       "    .dataframe thead th {\n",
       "        text-align: right;\n",
       "    }\n",
       "</style>\n",
       "<table border=\"1\" class=\"dataframe\">\n",
       "  <thead>\n",
       "    <tr style=\"text-align: right;\">\n",
       "      <th></th>\n",
       "      <th>LotFrontage</th>\n",
       "      <th>LotArea</th>\n",
       "      <th>OverallQual</th>\n",
       "      <th>OverallCond</th>\n",
       "      <th>YearBuilt</th>\n",
       "      <th>YearRemodAdd</th>\n",
       "      <th>MasVnrArea</th>\n",
       "      <th>ExterQual</th>\n",
       "      <th>ExterCond</th>\n",
       "      <th>BsmtQual</th>\n",
       "      <th>...</th>\n",
       "      <th>Total_baths</th>\n",
       "      <th>Total_lot_area</th>\n",
       "      <th>Total_porch_area</th>\n",
       "      <th>Total_finished_basement</th>\n",
       "      <th>Pool_dummy</th>\n",
       "      <th>2floor_dummy</th>\n",
       "      <th>Garage_dummy</th>\n",
       "      <th>Basement_dummy</th>\n",
       "      <th>Fireplace_dummy</th>\n",
       "      <th>SalePrice</th>\n",
       "    </tr>\n",
       "    <tr>\n",
       "      <th>Labels</th>\n",
       "      <th></th>\n",
       "      <th></th>\n",
       "      <th></th>\n",
       "      <th></th>\n",
       "      <th></th>\n",
       "      <th></th>\n",
       "      <th></th>\n",
       "      <th></th>\n",
       "      <th></th>\n",
       "      <th></th>\n",
       "      <th></th>\n",
       "      <th></th>\n",
       "      <th></th>\n",
       "      <th></th>\n",
       "      <th></th>\n",
       "      <th></th>\n",
       "      <th></th>\n",
       "      <th></th>\n",
       "      <th></th>\n",
       "      <th></th>\n",
       "      <th></th>\n",
       "    </tr>\n",
       "  </thead>\n",
       "  <tbody>\n",
       "    <tr>\n",
       "      <th>1</th>\n",
       "      <td>0.131</td>\n",
       "      <td>0.031</td>\n",
       "      <td>0.486</td>\n",
       "      <td>0.616</td>\n",
       "      <td>0.479</td>\n",
       "      <td>0.384</td>\n",
       "      <td>0.023</td>\n",
       "      <td>0.360</td>\n",
       "      <td>0.527</td>\n",
       "      <td>0.371</td>\n",
       "      <td>...</td>\n",
       "      <td>0.435</td>\n",
       "      <td>0.032</td>\n",
       "      <td>0.139</td>\n",
       "      <td>0.097</td>\n",
       "      <td>0.003</td>\n",
       "      <td>0.735</td>\n",
       "      <td>0.878</td>\n",
       "      <td>0.959</td>\n",
       "      <td>0.328</td>\n",
       "      <td>0.173</td>\n",
       "    </tr>\n",
       "    <tr>\n",
       "      <th>3</th>\n",
       "      <td>0.181</td>\n",
       "      <td>0.052</td>\n",
       "      <td>0.483</td>\n",
       "      <td>0.597</td>\n",
       "      <td>0.671</td>\n",
       "      <td>0.425</td>\n",
       "      <td>0.049</td>\n",
       "      <td>0.365</td>\n",
       "      <td>0.527</td>\n",
       "      <td>0.416</td>\n",
       "      <td>...</td>\n",
       "      <td>0.390</td>\n",
       "      <td>0.045</td>\n",
       "      <td>0.150</td>\n",
       "      <td>0.274</td>\n",
       "      <td>0.007</td>\n",
       "      <td>0.048</td>\n",
       "      <td>0.937</td>\n",
       "      <td>0.959</td>\n",
       "      <td>0.472</td>\n",
       "      <td>0.183</td>\n",
       "    </tr>\n",
       "    <tr>\n",
       "      <th>0</th>\n",
       "      <td>0.169</td>\n",
       "      <td>0.038</td>\n",
       "      <td>0.693</td>\n",
       "      <td>0.507</td>\n",
       "      <td>0.939</td>\n",
       "      <td>0.879</td>\n",
       "      <td>0.095</td>\n",
       "      <td>0.643</td>\n",
       "      <td>0.510</td>\n",
       "      <td>0.742</td>\n",
       "      <td>...</td>\n",
       "      <td>0.539</td>\n",
       "      <td>0.039</td>\n",
       "      <td>0.206</td>\n",
       "      <td>0.283</td>\n",
       "      <td>0.000</td>\n",
       "      <td>0.000</td>\n",
       "      <td>0.986</td>\n",
       "      <td>1.000</td>\n",
       "      <td>0.612</td>\n",
       "      <td>0.235</td>\n",
       "    </tr>\n",
       "    <tr>\n",
       "      <th>2</th>\n",
       "      <td>0.189</td>\n",
       "      <td>0.048</td>\n",
       "      <td>0.671</td>\n",
       "      <td>0.538</td>\n",
       "      <td>0.888</td>\n",
       "      <td>0.779</td>\n",
       "      <td>0.109</td>\n",
       "      <td>0.576</td>\n",
       "      <td>0.513</td>\n",
       "      <td>0.661</td>\n",
       "      <td>...</td>\n",
       "      <td>0.711</td>\n",
       "      <td>0.045</td>\n",
       "      <td>0.230</td>\n",
       "      <td>0.191</td>\n",
       "      <td>0.006</td>\n",
       "      <td>1.000</td>\n",
       "      <td>1.000</td>\n",
       "      <td>0.994</td>\n",
       "      <td>0.775</td>\n",
       "      <td>0.238</td>\n",
       "    </tr>\n",
       "  </tbody>\n",
       "</table>\n",
       "<p>4 rows × 222 columns</p>\n",
       "</div>"
      ],
      "text/plain": [
       "        LotFrontage  LotArea  OverallQual  OverallCond  YearBuilt  \\\n",
       "Labels                                                              \n",
       "1             0.131    0.031        0.486        0.616      0.479   \n",
       "3             0.181    0.052        0.483        0.597      0.671   \n",
       "0             0.169    0.038        0.693        0.507      0.939   \n",
       "2             0.189    0.048        0.671        0.538      0.888   \n",
       "\n",
       "        YearRemodAdd  MasVnrArea  ExterQual  ExterCond  BsmtQual  ...  \\\n",
       "Labels                                                            ...   \n",
       "1              0.384       0.023      0.360      0.527     0.371  ...   \n",
       "3              0.425       0.049      0.365      0.527     0.416  ...   \n",
       "0              0.879       0.095      0.643      0.510     0.742  ...   \n",
       "2              0.779       0.109      0.576      0.513     0.661  ...   \n",
       "\n",
       "        Total_baths  Total_lot_area  Total_porch_area  \\\n",
       "Labels                                                  \n",
       "1             0.435           0.032             0.139   \n",
       "3             0.390           0.045             0.150   \n",
       "0             0.539           0.039             0.206   \n",
       "2             0.711           0.045             0.230   \n",
       "\n",
       "        Total_finished_basement  Pool_dummy  2floor_dummy  Garage_dummy  \\\n",
       "Labels                                                                    \n",
       "1                         0.097       0.003         0.735         0.878   \n",
       "3                         0.274       0.007         0.048         0.937   \n",
       "0                         0.283       0.000         0.000         0.986   \n",
       "2                         0.191       0.006         1.000         1.000   \n",
       "\n",
       "        Basement_dummy  Fireplace_dummy  SalePrice  \n",
       "Labels                                              \n",
       "1                0.959            0.328      0.173  \n",
       "3                0.959            0.472      0.183  \n",
       "0                1.000            0.612      0.235  \n",
       "2                0.994            0.775      0.238  \n",
       "\n",
       "[4 rows x 222 columns]"
      ]
     },
     "execution_count": 1220,
     "metadata": {},
     "output_type": "execute_result"
    }
   ],
   "source": [
    "# compare cluster differences across all features\n",
    "table_all = round(df_kmeans.groupby('Labels').mean().sort_values('SalePrice'),3)\n",
    "table_all"
   ]
  },
  {
   "cell_type": "markdown",
   "metadata": {},
   "source": [
    "In terms of prices, there are two main categories in the clusters. Clusters 0 and 1 are similarly low priced, whereas clusters 2 and 3 are similarly high priced"
   ]
  },
  {
   "cell_type": "code",
   "execution_count": 1241,
   "metadata": {},
   "outputs": [
    {
     "name": "stderr",
     "output_type": "stream",
     "text": [
      "C:\\Users\\uallakulov\\AppData\\Local\\Continuum\\anaconda3\\lib\\site-packages\\ipykernel\\ipkernel.py:287: DeprecationWarning:\n",
      "\n",
      "`should_run_async` will not call `transform_cell` automatically in the future. Please pass the result to `transformed_cell` argument and any exception that happen during thetransform in `preprocessing_exc_tuple` in IPython 7.17 and above.\n",
      "\n"
     ]
    },
    {
     "data": {
      "text/html": [
       "<div>\n",
       "<style scoped>\n",
       "    .dataframe tbody tr th:only-of-type {\n",
       "        vertical-align: middle;\n",
       "    }\n",
       "\n",
       "    .dataframe tbody tr th {\n",
       "        vertical-align: top;\n",
       "    }\n",
       "\n",
       "    .dataframe thead th {\n",
       "        text-align: right;\n",
       "    }\n",
       "</style>\n",
       "<table border=\"1\" class=\"dataframe\">\n",
       "  <thead>\n",
       "    <tr style=\"text-align: right;\">\n",
       "      <th></th>\n",
       "      <th>Value</th>\n",
       "    </tr>\n",
       "  </thead>\n",
       "  <tbody>\n",
       "    <tr>\n",
       "      <th>SaleType_Con</th>\n",
       "      <td>inf</td>\n",
       "    </tr>\n",
       "    <tr>\n",
       "      <th>Condition1_RRNe</th>\n",
       "      <td>inf</td>\n",
       "    </tr>\n",
       "    <tr>\n",
       "      <th>Neighborhood_CollgCr</th>\n",
       "      <td>inf</td>\n",
       "    </tr>\n",
       "    <tr>\n",
       "      <th>Neighborhood_NoRidge</th>\n",
       "      <td>inf</td>\n",
       "    </tr>\n",
       "    <tr>\n",
       "      <th>Neighborhood_NridgHt</th>\n",
       "      <td>inf</td>\n",
       "    </tr>\n",
       "    <tr>\n",
       "      <th>Exterior2nd_AsphShn</th>\n",
       "      <td>inf</td>\n",
       "    </tr>\n",
       "    <tr>\n",
       "      <th>Neighborhood_StoneBr</th>\n",
       "      <td>inf</td>\n",
       "    </tr>\n",
       "    <tr>\n",
       "      <th>Neighborhood_Timber</th>\n",
       "      <td>inf</td>\n",
       "    </tr>\n",
       "    <tr>\n",
       "      <th>Neighborhood_Veenker</th>\n",
       "      <td>inf</td>\n",
       "    </tr>\n",
       "    <tr>\n",
       "      <th>Condition1_PosA</th>\n",
       "      <td>inf</td>\n",
       "    </tr>\n",
       "    <tr>\n",
       "      <th>RoofMatl_WdShake</th>\n",
       "      <td>inf</td>\n",
       "    </tr>\n",
       "    <tr>\n",
       "      <th>MSSubClass_85</th>\n",
       "      <td>inf</td>\n",
       "    </tr>\n",
       "    <tr>\n",
       "      <th>MSSubClass_60</th>\n",
       "      <td>184.800000</td>\n",
       "    </tr>\n",
       "    <tr>\n",
       "      <th>Neighborhood_Gilbert</th>\n",
       "      <td>68.666667</td>\n",
       "    </tr>\n",
       "    <tr>\n",
       "      <th>LotConfig_CulDSac</th>\n",
       "      <td>36.000000</td>\n",
       "    </tr>\n",
       "    <tr>\n",
       "      <th>Neighborhood_NWAmes</th>\n",
       "      <td>31.666667</td>\n",
       "    </tr>\n",
       "    <tr>\n",
       "      <th>SaleType_New</th>\n",
       "      <td>26.600000</td>\n",
       "    </tr>\n",
       "    <tr>\n",
       "      <th>SaleCondition_Partial</th>\n",
       "      <td>16.625000</td>\n",
       "    </tr>\n",
       "    <tr>\n",
       "      <th>GarageType_BuiltIn</th>\n",
       "      <td>15.666667</td>\n",
       "    </tr>\n",
       "    <tr>\n",
       "      <th>GarageFinish</th>\n",
       "      <td>11.500000</td>\n",
       "    </tr>\n",
       "  </tbody>\n",
       "</table>\n",
       "</div>"
      ],
      "text/plain": [
       "                            Value\n",
       "SaleType_Con                  inf\n",
       "Condition1_RRNe               inf\n",
       "Neighborhood_CollgCr          inf\n",
       "Neighborhood_NoRidge          inf\n",
       "Neighborhood_NridgHt          inf\n",
       "Exterior2nd_AsphShn           inf\n",
       "Neighborhood_StoneBr          inf\n",
       "Neighborhood_Timber           inf\n",
       "Neighborhood_Veenker          inf\n",
       "Condition1_PosA               inf\n",
       "RoofMatl_WdShake              inf\n",
       "MSSubClass_85                 inf\n",
       "MSSubClass_60          184.800000\n",
       "Neighborhood_Gilbert    68.666667\n",
       "LotConfig_CulDSac       36.000000\n",
       "Neighborhood_NWAmes     31.666667\n",
       "SaleType_New            26.600000\n",
       "SaleCondition_Partial   16.625000\n",
       "GarageType_BuiltIn      15.666667\n",
       "GarageFinish            11.500000"
      ]
     },
     "execution_count": 1241,
     "metadata": {},
     "output_type": "execute_result"
    }
   ],
   "source": [
    "# the highest relative differences in attributes between cluster 2 and 0\n",
    "differ = pd.DataFrame(table_all.loc[2]/table_all.loc[1], columns = ['Value']).sort_values('Value', ascending = False).head(20)\n",
    "differ"
   ]
  },
  {
   "cell_type": "code",
   "execution_count": 1356,
   "metadata": {},
   "outputs": [
    {
     "data": {
      "text/html": [
       "<div>\n",
       "<style scoped>\n",
       "    .dataframe tbody tr th:only-of-type {\n",
       "        vertical-align: middle;\n",
       "    }\n",
       "\n",
       "    .dataframe tbody tr th {\n",
       "        vertical-align: top;\n",
       "    }\n",
       "\n",
       "    .dataframe thead th {\n",
       "        text-align: right;\n",
       "    }\n",
       "</style>\n",
       "<table border=\"1\" class=\"dataframe\">\n",
       "  <thead>\n",
       "    <tr style=\"text-align: right;\">\n",
       "      <th></th>\n",
       "      <th>TotalBsmtSF</th>\n",
       "      <th>GarageArea</th>\n",
       "      <th>Total_bathrooms</th>\n",
       "      <th>GarageCars</th>\n",
       "      <th>BsmtQual</th>\n",
       "      <th>KitchenQual</th>\n",
       "      <th>ExterQual</th>\n",
       "      <th>Total_indoor_area</th>\n",
       "      <th>OverallQual</th>\n",
       "      <th>Total_area</th>\n",
       "      <th>SalePrice</th>\n",
       "    </tr>\n",
       "    <tr>\n",
       "      <th>Labels</th>\n",
       "      <th></th>\n",
       "      <th></th>\n",
       "      <th></th>\n",
       "      <th></th>\n",
       "      <th></th>\n",
       "      <th></th>\n",
       "      <th></th>\n",
       "      <th></th>\n",
       "      <th></th>\n",
       "      <th></th>\n",
       "      <th></th>\n",
       "    </tr>\n",
       "  </thead>\n",
       "  <tbody>\n",
       "    <tr>\n",
       "      <th>1</th>\n",
       "      <td>0.238</td>\n",
       "      <td>0.248</td>\n",
       "      <td>0.149</td>\n",
       "      <td>0.327</td>\n",
       "      <td>0.371</td>\n",
       "      <td>0.394</td>\n",
       "      <td>0.360</td>\n",
       "      <td>0.281</td>\n",
       "      <td>0.486</td>\n",
       "      <td>0.285</td>\n",
       "      <td>0.173</td>\n",
       "    </tr>\n",
       "    <tr>\n",
       "      <th>3</th>\n",
       "      <td>0.333</td>\n",
       "      <td>0.306</td>\n",
       "      <td>0.190</td>\n",
       "      <td>0.383</td>\n",
       "      <td>0.416</td>\n",
       "      <td>0.400</td>\n",
       "      <td>0.365</td>\n",
       "      <td>0.304</td>\n",
       "      <td>0.483</td>\n",
       "      <td>0.290</td>\n",
       "      <td>0.183</td>\n",
       "    </tr>\n",
       "    <tr>\n",
       "      <th>0</th>\n",
       "      <td>0.463</td>\n",
       "      <td>0.435</td>\n",
       "      <td>0.299</td>\n",
       "      <td>0.568</td>\n",
       "      <td>0.742</td>\n",
       "      <td>0.691</td>\n",
       "      <td>0.643</td>\n",
       "      <td>0.406</td>\n",
       "      <td>0.693</td>\n",
       "      <td>0.385</td>\n",
       "      <td>0.235</td>\n",
       "    </tr>\n",
       "    <tr>\n",
       "      <th>2</th>\n",
       "      <td>0.310</td>\n",
       "      <td>0.416</td>\n",
       "      <td>0.378</td>\n",
       "      <td>0.556</td>\n",
       "      <td>0.661</td>\n",
       "      <td>0.618</td>\n",
       "      <td>0.576</td>\n",
       "      <td>0.405</td>\n",
       "      <td>0.671</td>\n",
       "      <td>0.425</td>\n",
       "      <td>0.238</td>\n",
       "    </tr>\n",
       "  </tbody>\n",
       "</table>\n",
       "</div>"
      ],
      "text/plain": [
       "        TotalBsmtSF  GarageArea  Total_bathrooms  GarageCars  BsmtQual  \\\n",
       "Labels                                                                   \n",
       "1             0.238       0.248            0.149       0.327     0.371   \n",
       "3             0.333       0.306            0.190       0.383     0.416   \n",
       "0             0.463       0.435            0.299       0.568     0.742   \n",
       "2             0.310       0.416            0.378       0.556     0.661   \n",
       "\n",
       "        KitchenQual  ExterQual  Total_indoor_area  OverallQual  Total_area  \\\n",
       "Labels                                                                       \n",
       "1             0.394      0.360              0.281        0.486       0.285   \n",
       "3             0.400      0.365              0.304        0.483       0.290   \n",
       "0             0.691      0.643              0.406        0.693       0.385   \n",
       "2             0.618      0.576              0.405        0.671       0.425   \n",
       "\n",
       "        SalePrice  \n",
       "Labels             \n",
       "1           0.173  \n",
       "3           0.183  \n",
       "0           0.235  \n",
       "2           0.238  "
      ]
     },
     "execution_count": 1356,
     "metadata": {},
     "output_type": "execute_result"
    }
   ],
   "source": [
    "#check how the highest correlated numerical attributes are different across the four clusters\n",
    "table_highcorr = round(df_kmeans.groupby('Labels')[high_corr].mean().sort_values('SalePrice'),3)\n",
    "table_highcorr"
   ]
  },
  {
   "cell_type": "code",
   "execution_count": 1228,
   "metadata": {},
   "outputs": [
    {
     "name": "stderr",
     "output_type": "stream",
     "text": [
      "C:\\Users\\uallakulov\\AppData\\Local\\Continuum\\anaconda3\\lib\\site-packages\\ipykernel\\ipkernel.py:287: DeprecationWarning:\n",
      "\n",
      "`should_run_async` will not call `transform_cell` automatically in the future. Please pass the result to `transformed_cell` argument and any exception that happen during thetransform in `preprocessing_exc_tuple` in IPython 7.17 and above.\n",
      "\n"
     ]
    },
    {
     "data": {
      "text/html": [
       "<div>\n",
       "<style scoped>\n",
       "    .dataframe tbody tr th:only-of-type {\n",
       "        vertical-align: middle;\n",
       "    }\n",
       "\n",
       "    .dataframe tbody tr th {\n",
       "        vertical-align: top;\n",
       "    }\n",
       "\n",
       "    .dataframe thead th {\n",
       "        text-align: right;\n",
       "    }\n",
       "</style>\n",
       "<table border=\"1\" class=\"dataframe\">\n",
       "  <thead>\n",
       "    <tr style=\"text-align: right;\">\n",
       "      <th></th>\n",
       "      <th>Value</th>\n",
       "    </tr>\n",
       "  </thead>\n",
       "  <tbody>\n",
       "    <tr>\n",
       "      <th>Total_bathrooms</th>\n",
       "      <td>2.536913</td>\n",
       "    </tr>\n",
       "    <tr>\n",
       "      <th>BsmtQual</th>\n",
       "      <td>1.781671</td>\n",
       "    </tr>\n",
       "    <tr>\n",
       "      <th>GarageCars</th>\n",
       "      <td>1.700306</td>\n",
       "    </tr>\n",
       "    <tr>\n",
       "      <th>GarageArea</th>\n",
       "      <td>1.677419</td>\n",
       "    </tr>\n",
       "    <tr>\n",
       "      <th>ExterQual</th>\n",
       "      <td>1.600000</td>\n",
       "    </tr>\n",
       "    <tr>\n",
       "      <th>KitchenQual</th>\n",
       "      <td>1.568528</td>\n",
       "    </tr>\n",
       "    <tr>\n",
       "      <th>Total_area</th>\n",
       "      <td>1.491228</td>\n",
       "    </tr>\n",
       "    <tr>\n",
       "      <th>Total_indoor_area</th>\n",
       "      <td>1.441281</td>\n",
       "    </tr>\n",
       "    <tr>\n",
       "      <th>OverallQual</th>\n",
       "      <td>1.380658</td>\n",
       "    </tr>\n",
       "    <tr>\n",
       "      <th>SalePrice</th>\n",
       "      <td>1.375723</td>\n",
       "    </tr>\n",
       "    <tr>\n",
       "      <th>TotalBsmtSF</th>\n",
       "      <td>1.302521</td>\n",
       "    </tr>\n",
       "  </tbody>\n",
       "</table>\n",
       "</div>"
      ],
      "text/plain": [
       "                      Value\n",
       "Total_bathrooms    2.536913\n",
       "BsmtQual           1.781671\n",
       "GarageCars         1.700306\n",
       "GarageArea         1.677419\n",
       "ExterQual          1.600000\n",
       "KitchenQual        1.568528\n",
       "Total_area         1.491228\n",
       "Total_indoor_area  1.441281\n",
       "OverallQual        1.380658\n",
       "SalePrice          1.375723\n",
       "TotalBsmtSF        1.302521"
      ]
     },
     "execution_count": 1228,
     "metadata": {},
     "output_type": "execute_result"
    }
   ],
   "source": [
    "#difference between high and low price clusters\n",
    "pd.DataFrame(table_highcorr.loc[2]/table_highcorr.loc[1], columns = ['Value']).sort_values('Value', ascending = False)"
   ]
  },
  {
   "cell_type": "code",
   "execution_count": 1229,
   "metadata": {},
   "outputs": [
    {
     "name": "stderr",
     "output_type": "stream",
     "text": [
      "C:\\Users\\uallakulov\\AppData\\Local\\Continuum\\anaconda3\\lib\\site-packages\\ipykernel\\ipkernel.py:287: DeprecationWarning:\n",
      "\n",
      "`should_run_async` will not call `transform_cell` automatically in the future. Please pass the result to `transformed_cell` argument and any exception that happen during thetransform in `preprocessing_exc_tuple` in IPython 7.17 and above.\n",
      "\n"
     ]
    },
    {
     "data": {
      "text/html": [
       "<div>\n",
       "<style scoped>\n",
       "    .dataframe tbody tr th:only-of-type {\n",
       "        vertical-align: middle;\n",
       "    }\n",
       "\n",
       "    .dataframe tbody tr th {\n",
       "        vertical-align: top;\n",
       "    }\n",
       "\n",
       "    .dataframe thead th {\n",
       "        text-align: right;\n",
       "    }\n",
       "</style>\n",
       "<table border=\"1\" class=\"dataframe\">\n",
       "  <thead>\n",
       "    <tr style=\"text-align: right;\">\n",
       "      <th></th>\n",
       "      <th>Value</th>\n",
       "    </tr>\n",
       "  </thead>\n",
       "  <tbody>\n",
       "    <tr>\n",
       "      <th>Total_bathrooms</th>\n",
       "      <td>1.264214</td>\n",
       "    </tr>\n",
       "    <tr>\n",
       "      <th>Total_area</th>\n",
       "      <td>1.103896</td>\n",
       "    </tr>\n",
       "    <tr>\n",
       "      <th>SalePrice</th>\n",
       "      <td>1.012766</td>\n",
       "    </tr>\n",
       "    <tr>\n",
       "      <th>Total_indoor_area</th>\n",
       "      <td>0.997537</td>\n",
       "    </tr>\n",
       "    <tr>\n",
       "      <th>GarageCars</th>\n",
       "      <td>0.978873</td>\n",
       "    </tr>\n",
       "    <tr>\n",
       "      <th>OverallQual</th>\n",
       "      <td>0.968254</td>\n",
       "    </tr>\n",
       "    <tr>\n",
       "      <th>GarageArea</th>\n",
       "      <td>0.956322</td>\n",
       "    </tr>\n",
       "    <tr>\n",
       "      <th>ExterQual</th>\n",
       "      <td>0.895801</td>\n",
       "    </tr>\n",
       "    <tr>\n",
       "      <th>KitchenQual</th>\n",
       "      <td>0.894356</td>\n",
       "    </tr>\n",
       "    <tr>\n",
       "      <th>BsmtQual</th>\n",
       "      <td>0.890836</td>\n",
       "    </tr>\n",
       "    <tr>\n",
       "      <th>TotalBsmtSF</th>\n",
       "      <td>0.669546</td>\n",
       "    </tr>\n",
       "  </tbody>\n",
       "</table>\n",
       "</div>"
      ],
      "text/plain": [
       "                      Value\n",
       "Total_bathrooms    1.264214\n",
       "Total_area         1.103896\n",
       "SalePrice          1.012766\n",
       "Total_indoor_area  0.997537\n",
       "GarageCars         0.978873\n",
       "OverallQual        0.968254\n",
       "GarageArea         0.956322\n",
       "ExterQual          0.895801\n",
       "KitchenQual        0.894356\n",
       "BsmtQual           0.890836\n",
       "TotalBsmtSF        0.669546"
      ]
     },
     "execution_count": 1229,
     "metadata": {},
     "output_type": "execute_result"
    }
   ],
   "source": [
    "#difference between 2 high price clusters\n",
    "pd.DataFrame(table_highcorr.loc[2]/table_highcorr.loc[0], columns = ['Value']).sort_values('Value', ascending = False)"
   ]
  },
  {
   "cell_type": "code",
   "execution_count": 1230,
   "metadata": {},
   "outputs": [
    {
     "name": "stderr",
     "output_type": "stream",
     "text": [
      "C:\\Users\\uallakulov\\AppData\\Local\\Continuum\\anaconda3\\lib\\site-packages\\ipykernel\\ipkernel.py:287: DeprecationWarning:\n",
      "\n",
      "`should_run_async` will not call `transform_cell` automatically in the future. Please pass the result to `transformed_cell` argument and any exception that happen during thetransform in `preprocessing_exc_tuple` in IPython 7.17 and above.\n",
      "\n"
     ]
    },
    {
     "data": {
      "text/html": [
       "<div>\n",
       "<style scoped>\n",
       "    .dataframe tbody tr th:only-of-type {\n",
       "        vertical-align: middle;\n",
       "    }\n",
       "\n",
       "    .dataframe tbody tr th {\n",
       "        vertical-align: top;\n",
       "    }\n",
       "\n",
       "    .dataframe thead th {\n",
       "        text-align: right;\n",
       "    }\n",
       "</style>\n",
       "<table border=\"1\" class=\"dataframe\">\n",
       "  <thead>\n",
       "    <tr style=\"text-align: right;\">\n",
       "      <th></th>\n",
       "      <th>Value</th>\n",
       "    </tr>\n",
       "  </thead>\n",
       "  <tbody>\n",
       "    <tr>\n",
       "      <th>TotalBsmtSF</th>\n",
       "      <td>1.399160</td>\n",
       "    </tr>\n",
       "    <tr>\n",
       "      <th>Total_bathrooms</th>\n",
       "      <td>1.275168</td>\n",
       "    </tr>\n",
       "    <tr>\n",
       "      <th>GarageArea</th>\n",
       "      <td>1.233871</td>\n",
       "    </tr>\n",
       "    <tr>\n",
       "      <th>GarageCars</th>\n",
       "      <td>1.171254</td>\n",
       "    </tr>\n",
       "    <tr>\n",
       "      <th>BsmtQual</th>\n",
       "      <td>1.121294</td>\n",
       "    </tr>\n",
       "    <tr>\n",
       "      <th>Total_indoor_area</th>\n",
       "      <td>1.081851</td>\n",
       "    </tr>\n",
       "    <tr>\n",
       "      <th>SalePrice</th>\n",
       "      <td>1.057803</td>\n",
       "    </tr>\n",
       "    <tr>\n",
       "      <th>Total_area</th>\n",
       "      <td>1.017544</td>\n",
       "    </tr>\n",
       "    <tr>\n",
       "      <th>KitchenQual</th>\n",
       "      <td>1.015228</td>\n",
       "    </tr>\n",
       "    <tr>\n",
       "      <th>ExterQual</th>\n",
       "      <td>1.013889</td>\n",
       "    </tr>\n",
       "    <tr>\n",
       "      <th>OverallQual</th>\n",
       "      <td>0.993827</td>\n",
       "    </tr>\n",
       "  </tbody>\n",
       "</table>\n",
       "</div>"
      ],
      "text/plain": [
       "                      Value\n",
       "TotalBsmtSF        1.399160\n",
       "Total_bathrooms    1.275168\n",
       "GarageArea         1.233871\n",
       "GarageCars         1.171254\n",
       "BsmtQual           1.121294\n",
       "Total_indoor_area  1.081851\n",
       "SalePrice          1.057803\n",
       "Total_area         1.017544\n",
       "KitchenQual        1.015228\n",
       "ExterQual          1.013889\n",
       "OverallQual        0.993827"
      ]
     },
     "execution_count": 1230,
     "metadata": {},
     "output_type": "execute_result"
    }
   ],
   "source": [
    "#difference between 2 low price clusters\n",
    "pd.DataFrame(table_highcorr.loc[3]/table_highcorr.loc[1], columns = ['Value']).sort_values('Value', ascending = False)"
   ]
  },
  {
   "cell_type": "code",
   "execution_count": 1226,
   "metadata": {},
   "outputs": [
    {
     "name": "stderr",
     "output_type": "stream",
     "text": [
      "C:\\Users\\uallakulov\\AppData\\Local\\Continuum\\anaconda3\\lib\\site-packages\\ipykernel\\ipkernel.py:287: DeprecationWarning:\n",
      "\n",
      "`should_run_async` will not call `transform_cell` automatically in the future. Please pass the result to `transformed_cell` argument and any exception that happen during thetransform in `preprocessing_exc_tuple` in IPython 7.17 and above.\n",
      "\n"
     ]
    },
    {
     "data": {
      "text/plain": [
       "<AxesSubplot:xlabel='Labels'>"
      ]
     },
     "execution_count": 1226,
     "metadata": {},
     "output_type": "execute_result"
    },
    {
     "data": {
      "image/png": "[encoded data removed]",
      "text/plain": [
       "<Figure size 1080x504 with 1 Axes>"
      ]
     },
     "metadata": {
      "needs_background": "light"
     },
     "output_type": "display_data"
    }
   ],
   "source": [
    "table_highcorr.plot.bar(figsize=(15,7))"
   ]
  },
  {
   "cell_type": "markdown",
   "metadata": {},
   "source": [
    "Clusters: <br><br>\n",
    "\n",
    "Clusters 0 and 2 are close in price and total area <br>\n",
    "Cluster 0: expensive segment, more bathrooms <br>\n",
    "Cluster 2: expensive segment, large basement <br>\n",
    "\n",
    "Clusters 1 and 3 are close in price and total area <br>\n",
    "Cluster 3: cheaper segment, more basement and bathroom <br>\n",
    "Cluster 1: cheaper segment, all attributes inferior to cluster 3 <br><br>\n",
    "\n",
    "Overall, clusters 0 and 2 houses are more expensive, bigger, and better quality than clusters 1 and 3."
   ]
  },
  {
   "cell_type": "code",
   "execution_count": 1244,
   "metadata": {},
   "outputs": [
    {
     "name": "stderr",
     "output_type": "stream",
     "text": [
      "C:\\Users\\uallakulov\\AppData\\Local\\Continuum\\anaconda3\\lib\\site-packages\\ipykernel\\ipkernel.py:287: DeprecationWarning:\n",
      "\n",
      "`should_run_async` will not call `transform_cell` automatically in the future. Please pass the result to `transformed_cell` argument and any exception that happen during thetransform in `preprocessing_exc_tuple` in IPython 7.17 and above.\n",
      "\n"
     ]
    }
   ],
   "source": [
    "# dataset for 3d graphing\n",
    "df_3d = df_cluster_analysis[['Total_bathrooms', 'BsmtQual', 'SalePrice', 'Labels']]"
   ]
  },
  {
   "cell_type": "code",
   "execution_count": 1243,
   "metadata": {},
   "outputs": [
    {
     "data": {
      "text/html": [
       "        <script type=\"text/javascript\">\n",
       "        window.PlotlyConfig = {MathJaxConfig: 'local'};\n",
       "        if (window.MathJax) {MathJax.Hub.Config({SVG: {font: \"STIX-Web\"}});}\n",
       "        if (typeof require !== 'undefined') {\n",
       "        require.undef(\"plotly\");\n",
       "        requirejs.config({\n",
       "            paths: {\n",
       "                'plotly': ['https://cdn.plot.ly/plotly-latest.min']\n",
       "            }\n",
       "        });\n",
       "        require(['plotly'], function(Plotly) {\n",
       "            window._Plotly = Plotly;\n",
       "        });\n",
       "        }\n",
       "        </script>\n",
       "        "
      ]
     },
     "metadata": {},
     "output_type": "display_data"
    },
    {
     "data": {
      "text/plain": [
       "'3D.html'"
      ]
     },
     "execution_count": 1243,
     "metadata": {},
     "output_type": "execute_result"
    }
   ],
   "source": [
    "# Visualize cluster shapes in 3d.\n",
    "init_notebook_mode(connected=True) \n",
    "\n",
    "cluster1=df_3d.loc[df_3d['Labels'] == 1]\n",
    "cluster2=df_3d.loc[df_3d['Labels'] == 2]\n",
    "\n",
    "scatter1 = dict(\n",
    "    mode = \"markers\",\n",
    "    name = \"Cluster 0\",\n",
    "    type = \"scatter3d\",    \n",
    "    x = cluster1.iloc[:,0], y = cluster1.iloc[:,1], z = cluster1.iloc[:,2],\n",
    "    marker = dict( size=2, color='green')\n",
    ")\n",
    "\n",
    "scatter2 = dict(\n",
    "    mode = \"markers\",\n",
    "    name = \"Cluster 2\",\n",
    "    type = \"scatter3d\",    \n",
    "    x = cluster2.iloc[:,0], y = cluster2.iloc[:,1], z = cluster2.iloc[:,2],\n",
    "    marker = dict( size=2, color='red')\n",
    ")\n",
    "\n",
    "cluster1 = dict(\n",
    "    alphahull = 5,\n",
    "    name = \"Cluster 0\",\n",
    "    opacity = .1,\n",
    "    type = \"mesh3d\",    \n",
    "    x = cluster1.iloc[:,0], y = cluster1.iloc[:,1], z = cluster1.iloc[:,2],\n",
    "    color='green', showscale = True\n",
    ")\n",
    "\n",
    "cluster2 = dict(\n",
    "    alphahull = 5,\n",
    "    name = \"Cluster 2\",\n",
    "    opacity = .1,\n",
    "    type = \"mesh3d\",    \n",
    "    x = cluster2.iloc[:,0], y = cluster2.iloc[:,1], z = cluster2.iloc[:,2],\n",
    "    color='red', showscale = True\n",
    ")\n",
    "\n",
    "layout = dict(\n",
    "    title = '3D mapping of expensive and cheap clusters',\n",
    "    scene = dict(\n",
    "        xaxis = dict( zeroline=True ),\n",
    "        yaxis = dict( zeroline=True ),\n",
    "        zaxis = dict( zeroline=True ),\n",
    "        xaxis_title='Bathrooms',\n",
    "        yaxis_title='Basement',\n",
    "        zaxis_title='Sale price')\n",
    "    )\n",
    "fig = dict(data=[scatter1, scatter2, cluster1, cluster2], layout=layout )\n",
    "\n",
    "# saves and launches html file with the 3D vizualization\n",
    "py.plot(fig,layout,filename='3D.html')"
   ]
  },
  {
   "cell_type": "markdown",
   "metadata": {},
   "source": [
    "# Supervised learning <a class=\"anchor\" id=\"14-bullet\"></a>"
   ]
  },
  {
   "cell_type": "markdown",
   "metadata": {},
   "source": [
    "## Feature selection <a class=\"anchor\" id=\"15-bullet\"></a>\n",
    "\n",
    "First, I reduce the number of features using recursive feature elimination (RFE).To do this, I evaluate a Gradient Boosting Regressor model with different numbers of features and select the number of features that yield the smallest root mean squared error."
   ]
  },
  {
   "cell_type": "code",
   "execution_count": 1249,
   "metadata": {},
   "outputs": [
    {
     "name": "stdout",
     "output_type": "stream",
     "text": [
      ">100 -21908.521 (3268.933)\n",
      ">205 -21877.138 (3314.816)\n",
      ">208 -21800.031 (3229.133)\n",
      ">221 -21984.383 (3293.911)\n"
     ]
    },
    {
     "data": {
      "image/png": "[encoded data removed]",
      "text/plain": [
       "<Figure size 432x288 with 1 Axes>"
      ]
     },
     "metadata": {
      "needs_background": "light"
     },
     "output_type": "display_data"
    }
   ],
   "source": [
    "#use recursive feature elimination (RFE) to select features\n",
    "\n",
    "warnings.simplefilter('ignore')\n",
    "\n",
    "# get a list of models to evaluate\n",
    "def get_models():\n",
    "    models = dict()\n",
    "\n",
    "    for i in [100, 205, 208, 221]:\n",
    "        steps = [('scaler', MinMaxScaler()), ('rfe', RFE(estimator = GradientBoostingRegressor(random_state = 10), n_features_to_select= i))]\n",
    "        models[str(i)] = Pipeline(steps=steps)\n",
    "    return models\n",
    "\n",
    "# evaluate a given model using cross-validation\n",
    "def evaluate_model(model, X, y):\n",
    "    cv = RepeatedStratifiedKFold(n_splits=10, n_repeats=3, random_state=1)\n",
    "    scores = cross_val_score(model, X, y, scoring= 'neg_root_mean_squared_error', cv=cv, n_jobs=-1, error_score=np.nan)\n",
    "    return scores\n",
    " \n",
    "# get the models to evaluate\n",
    "models = get_models()\n",
    "\n",
    "# evaluate the models and store results\n",
    "results, names = list(), list()\n",
    "for name, model in models.items():\n",
    "    scores = evaluate_model(model, X, y)\n",
    "    results.append(scores)\n",
    "    names.append(name)\n",
    "    print('>%s %.3f (%.3f)' % (name, mean(scores), std(scores)))\n",
    "# plot model performance for comparison\n",
    "pyplot.boxplot(results, labels=names, showmeans=True)\n",
    "pyplot.xticks(rotation=45)\n",
    "pyplot.show()\n",
    "\n",
    "warnings.simplefilter('default')"
   ]
  },
  {
   "cell_type": "markdown",
   "metadata": {},
   "source": [
    "Reducing the attributes to 208 results in the lowest RMSE. "
   ]
  },
  {
   "cell_type": "code",
   "execution_count": 1250,
   "metadata": {},
   "outputs": [
    {
     "name": "stderr",
     "output_type": "stream",
     "text": [
      "C:\\Users\\uallakulov\\AppData\\Local\\Continuum\\anaconda3\\lib\\site-packages\\ipykernel\\ipkernel.py:287: DeprecationWarning:\n",
      "\n",
      "`should_run_async` will not call `transform_cell` automatically in the future. Please pass the result to `transformed_cell` argument and any exception that happen during thetransform in `preprocessing_exc_tuple` in IPython 7.17 and above.\n",
      "\n"
     ]
    },
    {
     "data": {
      "text/plain": [
       "array([ True,  True,  True,  True,  True,  True,  True,  True,  True,\n",
       "        True,  True,  True,  True,  True,  True,  True,  True,  True,\n",
       "        True,  True,  True,  True,  True,  True,  True,  True,  True,\n",
       "        True,  True,  True,  True,  True,  True,  True,  True,  True,\n",
       "        True,  True,  True,  True,  True,  True,  True,  True,  True,\n",
       "        True,  True,  True,  True,  True,  True,  True,  True,  True,\n",
       "        True,  True,  True,  True,  True,  True,  True,  True,  True,\n",
       "        True,  True,  True,  True,  True,  True,  True,  True,  True,\n",
       "        True,  True,  True,  True,  True,  True,  True,  True,  True,\n",
       "        True,  True,  True,  True,  True,  True,  True, False, False,\n",
       "        True, False, False,  True,  True,  True,  True,  True,  True,\n",
       "        True,  True,  True,  True,  True,  True,  True,  True,  True,\n",
       "        True,  True, False, False,  True,  True,  True,  True,  True,\n",
       "        True,  True,  True,  True,  True,  True,  True,  True,  True,\n",
       "        True,  True,  True,  True,  True,  True,  True,  True,  True,\n",
       "        True,  True,  True,  True,  True,  True,  True,  True,  True,\n",
       "        True,  True,  True,  True,  True,  True,  True,  True,  True,\n",
       "        True,  True,  True,  True,  True,  True,  True,  True,  True,\n",
       "        True,  True,  True,  True,  True,  True,  True,  True,  True,\n",
       "        True,  True,  True,  True,  True,  True,  True,  True,  True,\n",
       "        True, False, False, False,  True, False, False, False, False,\n",
       "        True,  True,  True,  True,  True,  True,  True,  True,  True,\n",
       "        True,  True,  True,  True,  True,  True,  True,  True,  True,\n",
       "        True,  True,  True,  True,  True,  True,  True,  True,  True,\n",
       "        True,  True,  True,  True,  True])"
      ]
     },
     "execution_count": 1250,
     "metadata": {},
     "output_type": "execute_result"
    }
   ],
   "source": [
    "# eliminate features \n",
    "estimator = GradientBoostingRegressor(random_state = 10)\n",
    "selector = RFE(estimator, n_features_to_select=208)\n",
    "selector = selector.fit(X, y)\n",
    "selector.support_"
   ]
  },
  {
   "cell_type": "code",
   "execution_count": 1255,
   "metadata": {},
   "outputs": [
    {
     "data": {
      "text/plain": [
       "((1456, 208), (1459, 208))"
      ]
     },
     "execution_count": 1255,
     "metadata": {},
     "output_type": "execute_result"
    }
   ],
   "source": [
    "# reduce features based on the RFE selection\n",
    "X_reduced = X[X.columns[selector.support_]]\n",
    "X_test_reduced = X_test[X_test.columns[selector.support_]]\n",
    "X_reduced.shape, X_test_reduced.shape"
   ]
  },
  {
   "cell_type": "markdown",
   "metadata": {},
   "source": [
    "## Tune Hyperparameters with Randomized Search <a class=\"anchor\" id=\"17-bullet\"></a>\n",
    "\n",
    "Next, I use RandomizedSearchCV to tune hyperparameters of the model and evaluate different models using cross-validation."
   ]
  },
  {
   "cell_type": "code",
   "execution_count": 1294,
   "metadata": {},
   "outputs": [],
   "source": [
    "# pipeline of the scaler and regression model\n",
    "pipeline_gbr = Pipeline([\n",
    "        ('scaler', MinMaxScaler()),\n",
    "        ('GFR', GradientBoostingRegressor())\n",
    "    ])\n",
    "\n",
    "# parameters to search on\n",
    "parameters_gbr = {\n",
    "        'GFR__random_state': [10],\n",
    "        'GFR__learning_rate': uniform(0.001, 0.06),\n",
    "        'GFR__n_estimators': randint(3500, 4200),\n",
    "        'GFR__subsample': uniform(0.01, 0.8),\n",
    "        'GFR__max_depth': [4, 5, 6, 9],\n",
    "        'GFR__criterion': [\"friedman_mse\", \"mse\", \"mae\"], \n",
    "        'GFR__tol': [0.001],\n",
    "        'GFR__n_iter_no_change': [10]\n",
    "    }\n",
    "\n",
    "# initiate instance\n",
    "gs_gbr = RandomizedSearchCV(pipeline_gbr, parameters_gbr, n_iter=80, n_jobs = -1, scoring= 'neg_mean_squared_log_error', cv = 5, verbose=1, random_state =10)"
   ]
  },
  {
   "cell_type": "code",
   "execution_count": 1295,
   "metadata": {},
   "outputs": [
    {
     "name": "stdout",
     "output_type": "stream",
     "text": [
      "Fitting 5 folds for each of 80 candidates, totalling 400 fits\n"
     ]
    },
    {
     "name": "stderr",
     "output_type": "stream",
     "text": [
      "[Parallel(n_jobs=-1)]: Using backend LokyBackend with 8 concurrent workers.\n",
      "[Parallel(n_jobs=-1)]: Done  34 tasks      | elapsed:  4.8min\n",
      "[Parallel(n_jobs=-1)]: Done 184 tasks      | elapsed: 32.2min\n",
      "[Parallel(n_jobs=-1)]: Done 400 out of 400 | elapsed: 65.9min finished\n"
     ]
    },
    {
     "data": {
      "text/plain": [
       "RandomizedSearchCV(cv=5,\n",
       "                   estimator=Pipeline(steps=[('scaler', MinMaxScaler()),\n",
       "                                             ('GFR',\n",
       "                                              GradientBoostingRegressor())]),\n",
       "                   n_iter=80, n_jobs=-1,\n",
       "                   param_distributions={'GFR__criterion': ['friedman_mse',\n",
       "                                                           'mse', 'mae'],\n",
       "                                        'GFR__learning_rate': <scipy.stats._distn_infrastructure.rv_frozen object at 0x000001B98DC5FEC8>,\n",
       "                                        'GFR__max_depth': [4, 5, 6, 9],\n",
       "                                        'GFR__n_estimators': <scipy.stats._distn_infrastructure.rv_frozen object at 0x000001B98DC5F5C8>,\n",
       "                                        'GFR__n_iter_no_change': [10],\n",
       "                                        'GFR__random_state': [10],\n",
       "                                        'GFR__subsample': <scipy.stats._distn_infrastructure.rv_frozen object at 0x000001B98DC38BC8>,\n",
       "                                        'GFR__tol': [0.001]},\n",
       "                   random_state=10, scoring='neg_mean_squared_log_error',\n",
       "                   verbose=1)"
      ]
     },
     "execution_count": 1295,
     "metadata": {},
     "output_type": "execute_result"
    }
   ],
   "source": [
    "# random grid search\n",
    "gs_gbr.fit(X_reduced, y)"
   ]
  },
  {
   "cell_type": "code",
   "execution_count": 1296,
   "metadata": {},
   "outputs": [
    {
     "name": "stderr",
     "output_type": "stream",
     "text": [
      "C:\\Users\\uallakulov\\AppData\\Local\\Continuum\\anaconda3\\lib\\site-packages\\ipykernel\\ipkernel.py:287: DeprecationWarning:\n",
      "\n",
      "`should_run_async` will not call `transform_cell` automatically in the future. Please pass the result to `transformed_cell` argument and any exception that happen during thetransform in `preprocessing_exc_tuple` in IPython 7.17 and above.\n",
      "\n"
     ]
    },
    {
     "data": {
      "text/plain": [
       "{'GFR__criterion': 'mae',\n",
       " 'GFR__learning_rate': 0.018757702412780724,\n",
       " 'GFR__max_depth': 6,\n",
       " 'GFR__n_estimators': 3860,\n",
       " 'GFR__n_iter_no_change': 10,\n",
       " 'GFR__random_state': 10,\n",
       " 'GFR__subsample': 0.27040931026579906,\n",
       " 'GFR__tol': 0.001}"
      ]
     },
     "execution_count": 1296,
     "metadata": {},
     "output_type": "execute_result"
    }
   ],
   "source": [
    "#get best parameters\n",
    "gs_gbr.best_params_"
   ]
  },
  {
   "cell_type": "code",
   "execution_count": 1297,
   "metadata": {},
   "outputs": [
    {
     "data": {
      "text/plain": [
       "-0.013933917176273583"
      ]
     },
     "execution_count": 1297,
     "metadata": {},
     "output_type": "execute_result"
    }
   ],
   "source": [
    "# rmse score of the best model\n",
    "gs_gbr.best_score_"
   ]
  },
  {
   "cell_type": "code",
   "execution_count": 1298,
   "metadata": {},
   "outputs": [],
   "source": [
    "# predict for Kaggle submission\n",
    "pred_gbr = gs_gbr.predict(X_test_reduced)"
   ]
  },
  {
   "cell_type": "code",
   "execution_count": 1299,
   "metadata": {},
   "outputs": [
    {
     "name": "stderr",
     "output_type": "stream",
     "text": [
      "C:\\Users\\uallakulov\\AppData\\Local\\Continuum\\anaconda3\\lib\\site-packages\\ipykernel\\ipkernel.py:287: DeprecationWarning:\n",
      "\n",
      "`should_run_async` will not call `transform_cell` automatically in the future. Please pass the result to `transformed_cell` argument and any exception that happen during thetransform in `preprocessing_exc_tuple` in IPython 7.17 and above.\n",
      "\n"
     ]
    }
   ],
   "source": [
    "# export prediction to a csv file for submission\n",
    "submission_gbr = pd.DataFrame()\n",
    "submission_gbr['Id'] = df_test['Id']\n",
    "submission_gbr['SalePrice'] = pred_gbr\n",
    "submission_gbr.to_csv('submission_gbr.csv', index=False)"
   ]
  },
  {
   "cell_type": "markdown",
   "metadata": {},
   "source": [
    "## Evaluation of feature importances <a class=\"anchor\" id=\"20-bullet\"></a>\n",
    "\n",
    "Finally, I evaluate feature importances by assigning scores to input features in the above model."
   ]
  },
  {
   "cell_type": "code",
   "execution_count": 1341,
   "metadata": {},
   "outputs": [
    {
     "data": {
      "image/png": "[encoded data removed]",
      "text/plain": [
       "<Figure size 1296x504 with 1 Axes>"
      ]
     },
     "metadata": {
      "needs_background": "light"
     },
     "output_type": "display_data"
    }
   ],
   "source": [
    "#get feature importances\n",
    "importances = gs_gbr.best_estimator_._final_estimator.feature_importances_\n",
    "#reverse the list - greatest to least important\n",
    "sorted_index = np.argsort(importances)[::-1]\n",
    "x = range(0,50)\n",
    "\n",
    "#tick labels\n",
    "labels = np.array(X_reduced.columns)[sorted_index]\n",
    "\n",
    "#plot\n",
    "plt.figure(figsize=(18,7))\n",
    "plt.bar(x, importances[sorted_index][0:50], tick_label = labels[0:50])\n",
    "plt.xticks(rotation = 90)\n",
    "\n",
    "plt.show()\n"
   ]
  },
  {
   "cell_type": "markdown",
   "metadata": {},
   "source": [
    "*End of notebook*"
   ]
  }
 ],
 "metadata": {
  "kernelspec": {
   "display_name": "Python 3",
   "language": "python",
   "name": "python3"
  },
  "language_info": {
   "codemirror_mode": {
    "name": "ipython",
    "version": 3
   },
   "file_extension": ".py",
   "mimetype": "text/x-python",
   "name": "python",
   "nbconvert_exporter": "python",
   "pygments_lexer": "ipython3",
   "version": "3.7.9"
  }
 },
 "nbformat": 4,
 "nbformat_minor": 4
}
